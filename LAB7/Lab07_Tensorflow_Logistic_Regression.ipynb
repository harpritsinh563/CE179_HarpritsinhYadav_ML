{
  "nbformat": 4,
  "nbformat_minor": 0,
  "metadata": {
    "colab": {
      "name": "Lab07_Tensorflow_Logistic_Regression.ipynb",
      "provenance": [],
      "collapsed_sections": []
    },
    "kernelspec": {
      "name": "python3",
      "display_name": "Python 3"
    },
    "language_info": {
      "name": "python"
    }
  },
  "cells": [
    {
      "cell_type": "markdown",
      "source": [
        "# **TensorFlow Logistic Regression**"
      ],
      "metadata": {
        "id": "cvSOqNUfDAM_"
      }
    },
    {
      "cell_type": "code",
      "execution_count": 14,
      "metadata": {
        "id": "qkYOMYNArh8E"
      },
      "outputs": [],
      "source": [
        "from __future__ import absolute_import, division, print_function\n",
        "import tensorflow as tf\n",
        "from tensorflow.keras.datasets import mnist\n",
        "import numpy as np"
      ]
    },
    {
      "cell_type": "code",
      "source": [
        "(x_train, y_train), (x_test, y_test) = mnist.load_data()\n",
        "\n",
        "num_features=784\n",
        "\n",
        "x_train, x_test = np.array(x_train, np.float32), np.array(x_test, np.float32) # Convert to float32\n",
        "x_train, x_test = x_train.reshape([-1, num_features]), x_test.reshape([-1, num_features])\n",
        "x_train, x_test = x_train / 255., x_test / 255.  # Normalize images from [0,255] to [0,1]\n"
      ],
      "metadata": {
        "id": "I3om6ns91tw-"
      },
      "execution_count": 15,
      "outputs": []
    },
    {
      "cell_type": "markdown",
      "source": [
        "**Setting up Hyperparameters**"
      ],
      "metadata": {
        "id": "KVLImhDT2rdD"
      }
    },
    {
      "cell_type": "code",
      "source": [
        "num_classes = 10 # 0 to 9 digits\n",
        "num_features = 784 # 28*28\n",
        "learning_rate = 0.01\n",
        "training_steps = 1000\n",
        "batch_size = 256\n",
        "display_step = 50"
      ],
      "metadata": {
        "id": "cTJpqgA92wUk"
      },
      "execution_count": 16,
      "outputs": []
    },
    {
      "cell_type": "code",
      "source": [
        "train_data=tf.data.Dataset.from_tensor_slices((x_train,y_train))\n",
        "train_data=train_data.repeat().shuffle(5000).batch(batch_size).prefetch(1)  # Shuffling and batching"
      ],
      "metadata": {
        "id": "3gpXx82R3aZE"
      },
      "execution_count": 17,
      "outputs": []
    },
    {
      "cell_type": "markdown",
      "source": [
        "**Initializing weights and biases**"
      ],
      "metadata": {
        "id": "hNj0pXY0Bvgh"
      }
    },
    {
      "cell_type": "code",
      "source": [
        "W = tf.Variable(tf.ones([num_features, num_classes]), name=\"weight\")\n",
        "b = tf.Variable(tf.zeros([num_classes]), name=\"bias\")"
      ],
      "metadata": {
        "id": "IibDdcvs3fDS"
      },
      "execution_count": 18,
      "outputs": []
    },
    {
      "cell_type": "markdown",
      "source": [
        "**Logistic Regression and cost function**"
      ],
      "metadata": {
        "id": "2nmtwOqUB7YI"
      }
    },
    {
      "cell_type": "code",
      "source": [
        "def logistic_regression(x):\n",
        "    return tf.nn.softmax(tf.matmul(x, W) + b)\n",
        "def cross_entropy(y_pred, y_true):\n",
        "    y_true = tf.one_hot(y_true, depth=num_classes)\n",
        "    y_pred = tf.clip_by_value(y_pred, 1e-9, 1.)\n",
        "    return tf.reduce_mean(-tf.reduce_sum(y_true * tf.math.log(y_pred)))\n"
      ],
      "metadata": {
        "id": "SgZ6PKOwB2Qx"
      },
      "execution_count": 19,
      "outputs": []
    },
    {
      "cell_type": "markdown",
      "source": [
        "**Accuracy Metrics**"
      ],
      "metadata": {
        "id": "zBKlm7EwCPgi"
      }
    },
    {
      "cell_type": "code",
      "source": [
        "def accuracy(y_pred, y_true):\n",
        "  correct_prediction = tf.equal(tf.argmax(y_pred, 1), tf.cast(y_true, tf.int64))\n",
        "  return tf.reduce_mean(tf.cast(correct_prediction, tf.float32))\n",
        "\n",
        "optimizer = tf.optimizers.SGD(learning_rate)"
      ],
      "metadata": {
        "id": "eIknThiXCRyy"
      },
      "execution_count": 20,
      "outputs": []
    },
    {
      "cell_type": "markdown",
      "source": [
        "**Running Optimizations**"
      ],
      "metadata": {
        "id": "I7TPQH_rCdT6"
      }
    },
    {
      "cell_type": "code",
      "source": [
        "def run_optimization(x, y):\n",
        "    with tf.GradientTape() as g:\n",
        "        pred = logistic_regression(x)\n",
        "        loss = cross_entropy(pred, y)\n",
        "    gradients = g.gradient(loss, [W, b])\n",
        "    optimizer.apply_gradients(zip(gradients, [W, b]))"
      ],
      "metadata": {
        "id": "ZyGXXL4eChTK"
      },
      "execution_count": 21,
      "outputs": []
    },
    {
      "cell_type": "code",
      "source": [
        "for step, (batch_x, batch_y) in enumerate(train_data.take(training_steps), 1):\n",
        "    run_optimization(batch_x, batch_y)\n",
        "    if step % display_step == 0:\n",
        "        pred = logistic_regression(batch_x)\n",
        "        loss = cross_entropy(pred, batch_y)\n",
        "        acc = accuracy(pred, batch_y)\n",
        "        print(\"step: %i, loss: %f, accuracy: %f\" % (step, loss, acc))"
      ],
      "metadata": {
        "colab": {
          "base_uri": "https://localhost:8080/"
        },
        "id": "LSaSXvTnCt95",
        "outputId": "e374d195-bf69-4054-cfb3-899fb936097e"
      },
      "execution_count": 22,
      "outputs": [
        {
          "output_type": "stream",
          "name": "stdout",
          "text": [
            "step: 50, loss: 1087.864746, accuracy: 0.738281\n",
            "step: 100, loss: 638.513428, accuracy: 0.808594\n",
            "step: 150, loss: 103.019150, accuracy: 0.890625\n",
            "step: 200, loss: 69.949799, accuracy: 0.921875\n",
            "step: 250, loss: 71.271210, accuracy: 0.945312\n",
            "step: 300, loss: 100.956909, accuracy: 0.875000\n",
            "step: 350, loss: 121.919418, accuracy: 0.902344\n",
            "step: 400, loss: 139.982834, accuracy: 0.859375\n",
            "step: 450, loss: 61.643944, accuracy: 0.941406\n",
            "step: 500, loss: 110.057816, accuracy: 0.890625\n",
            "step: 550, loss: 55.506897, accuracy: 0.937500\n",
            "step: 600, loss: 60.239090, accuracy: 0.925781\n",
            "step: 650, loss: 38.048409, accuracy: 0.953125\n",
            "step: 700, loss: 60.614609, accuracy: 0.933594\n",
            "step: 750, loss: 81.791809, accuracy: 0.910156\n",
            "step: 800, loss: 54.510468, accuracy: 0.945312\n",
            "step: 850, loss: 61.915745, accuracy: 0.949219\n",
            "step: 900, loss: 74.214638, accuracy: 0.925781\n",
            "step: 950, loss: 31.731524, accuracy: 0.960938\n",
            "step: 1000, loss: 59.634373, accuracy: 0.941406\n"
          ]
        }
      ]
    },
    {
      "cell_type": "markdown",
      "source": [
        "**Testing Model Accuracy**"
      ],
      "metadata": {
        "id": "kttEBCgfC4Sm"
      }
    },
    {
      "cell_type": "code",
      "source": [
        "pred = logistic_regression(x_test)\n",
        "print(\"Test Accuracy: %f\" % accuracy(pred, y_test))"
      ],
      "metadata": {
        "colab": {
          "base_uri": "https://localhost:8080/"
        },
        "id": "bFAKC18rCx_R",
        "outputId": "1f499666-9b44-4c32-bda3-1c2da729156e"
      },
      "execution_count": 23,
      "outputs": [
        {
          "output_type": "stream",
          "name": "stdout",
          "text": [
            "Test Accuracy: 0.914300\n"
          ]
        }
      ]
    }
  ]
}