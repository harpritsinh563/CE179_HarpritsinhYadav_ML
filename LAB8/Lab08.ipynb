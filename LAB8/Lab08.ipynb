{
  "nbformat": 4,
  "nbformat_minor": 0,
  "metadata": {
    "colab": {
      "name": "Lab08.ipynb",
      "provenance": [],
      "collapsed_sections": []
    },
    "kernelspec": {
      "name": "python3",
      "display_name": "Python 3"
    },
    "language_info": {
      "name": "python"
    }
  },
  "cells": [
    {
      "cell_type": "markdown",
      "source": [
        "## **Spam classification using Naive Bayes and Decision Tree**"
      ],
      "metadata": {
        "id": "wCu_QGCq2436"
      }
    },
    {
      "cell_type": "code",
      "source": [
        "import pandas as pd\n",
        "from sklearn.metrics import precision_score,recall_score\n",
        "from tensorflow.keras.preprocessing.sequence import pad_sequences\n",
        "from sklearn.model_selection import train_test_split\n",
        "from sklearn.feature_extraction.text import CountVectorizer\n",
        "from sklearn.preprocessing import LabelEncoder\n",
        "stopwords = [ \"a\", \"about\", \"above\", \"after\", \"again\", \"against\", \"all\", \"am\",\n",
        "              \"an\", \"and\", \"any\", \"are\", \"as\", \"at\", \"be\", \"because\", \"been\", \"before\",\n",
        "              \"being\", \"below\", \"between\", \"both\", \"but\", \"by\", \"could\", \"did\", \"do\",\n",
        "              \"does\", \"doing\", \"down\", \"during\", \"each\", \"few\", \"for\", \"from\", \"further\",\n",
        "              \"had\", \"has\", \"have\", \"having\", \"he\", \"he'd\", \"he'll\", \"he's\", \"her\", \"here\",\n",
        "              \"here's\", \"hers\", \"herself\", \"him\", \"himself\", \"his\", \"how\", \"how's\", \"i\",\n",
        "              \"i'd\", \"i'll\", \"i'm\", \"i've\", \"if\", \"in\", \"into\", \"is\", \"it\", \"it's\", \"its\",\n",
        "              \"itself\", \"let's\", \"me\", \"more\", \"most\", \"my\", \"myself\", \"nor\", \"of\", \"on\",\n",
        "              \"once\", \"only\", \"or\", \"other\", \"ought\", \"our\", \"ours\", \"ourselves\", \"out\",\n",
        "              \"over\", \"own\", \"same\", \"she\", \"she'd\", \"she'll\", \"she's\", \"should\", \"so\",\n",
        "              \"some\", \"such\", \"than\", \"that\", \"that's\", \"the\", \"their\", \"theirs\", \"them\",\n",
        "              \"themselves\", \"then\", \"there\", \"there's\", \"these\", \"they\", \"they'd\",\n",
        "              \"they'll\", \"they're\", \"they've\", \"this\", \"those\", \"through\", \"to\", \"too\",\n",
        "              \"under\", \"until\", \"up\", \"very\", \"was\", \"we\", \"we'd\", \"we'll\", \"we're\",\n",
        "              \"we've\", \"were\", \"what\", \"what's\", \"when\", \"when's\", \"where\", \"where's\",\n",
        "              \"which\", \"while\", \"who\", \"who's\", \"whom\", \"why\", \"why's\", \"with\", \"would\",\n",
        "              \"you\", \"you'd\", \"you'll\", \"you're\", \"you've\", \"your\", \"yours\", \"yourself\",\n",
        "              \"yourselves\" ]"
      ],
      "metadata": {
        "id": "seoH7_sQ1oeF"
      },
      "execution_count": 71,
      "outputs": []
    },
    {
      "cell_type": "code",
      "source": [
        "data = pd.read_csv('spam2.csv')\n",
        "print(\"\\nData :\\n\",data)\n",
        "print(\"\\nData statistics\\n\",data.info())"
      ],
      "metadata": {
        "colab": {
          "base_uri": "https://localhost:8080/"
        },
        "id": "p8M03-Up13fT",
        "outputId": "0453f231-e292-47e6-ed03-ef14ad9aea54"
      },
      "execution_count": 72,
      "outputs": [
        {
          "output_type": "stream",
          "name": "stdout",
          "text": [
            "\n",
            "Data :\n",
            "         v1                                                 v2\n",
            "0      ham  Go until jurong point, crazy.. Available only ...\n",
            "1      ham                      Ok lar... Joking wif u oni...\n",
            "2     spam  Free entry in 2 a wkly comp to win FA Cup fina...\n",
            "3      ham  U dun say so early hor... U c already then say...\n",
            "4      ham  Nah I don't think he goes to usf, he lives aro...\n",
            "...    ...                                                ...\n",
            "5567  spam  This is the 2nd time we have tried 2 contact u...\n",
            "5568   ham              Will �_ b going to esplanade fr home?\n",
            "5569   ham  Pity, * was in mood for that. So...any other s...\n",
            "5570   ham  The guy did some bitching but I acted like i'd...\n",
            "5571   ham                         Rofl. Its true to its name\n",
            "\n",
            "[5572 rows x 2 columns]\n",
            "<class 'pandas.core.frame.DataFrame'>\n",
            "RangeIndex: 5572 entries, 0 to 5571\n",
            "Data columns (total 2 columns):\n",
            " #   Column  Non-Null Count  Dtype \n",
            "---  ------  --------------  ----- \n",
            " 0   v1      5572 non-null   object\n",
            " 1   v2      5572 non-null   object\n",
            "dtypes: object(2)\n",
            "memory usage: 87.2+ KB\n",
            "\n",
            "Data statistics\n",
            " None\n"
          ]
        }
      ]
    },
    {
      "cell_type": "code",
      "source": [
        "replace_with_dig = {\n",
        "    'ham':1,\n",
        "    'spam':0\n",
        "}\n",
        "data.replace(to_replace=replace_with_dig,inplace=True,value=None)"
      ],
      "metadata": {
        "id": "kqbgRXNo2Ty4"
      },
      "execution_count": 73,
      "outputs": []
    },
    {
      "cell_type": "markdown",
      "source": [
        "# **Using CountVectorizer**"
      ],
      "metadata": {
        "id": "zBwqQsbp2xeC"
      }
    },
    {
      "cell_type": "code",
      "source": [
        "# Creating an object CountVectorizer which will not include stopwords while counting\n",
        "vectorizer = CountVectorizer(stop_words={'english'})"
      ],
      "metadata": {
        "id": "Sr4MFQXJ3FYn"
      },
      "execution_count": 74,
      "outputs": []
    },
    {
      "cell_type": "code",
      "source": [
        "on_sentences_1 = vectorizer.fit(data['v2'])\n",
        "on_sentences_1.vocabulary_"
      ],
      "metadata": {
        "colab": {
          "base_uri": "https://localhost:8080/"
        },
        "id": "80J_eqBf3XK5",
        "outputId": "66cf7252-aca9-4ae3-b94b-69385e7e87b7"
      },
      "execution_count": 75,
      "outputs": [
        {
          "output_type": "execute_result",
          "data": {
            "text/plain": [
              "{'go': 3538,\n",
              " 'until': 8005,\n",
              " 'jurong': 4329,\n",
              " 'point': 5899,\n",
              " 'crazy': 2321,\n",
              " 'available': 1304,\n",
              " 'only': 5516,\n",
              " 'in': 4073,\n",
              " 'bugis': 1751,\n",
              " 'great': 3622,\n",
              " 'world': 8462,\n",
              " 'la': 4455,\n",
              " 'buffet': 1749,\n",
              " 'cine': 2044,\n",
              " 'there': 7621,\n",
              " 'got': 3582,\n",
              " 'amore': 1070,\n",
              " 'wat': 8241,\n",
              " 'ok': 5483,\n",
              " 'lar': 4491,\n",
              " 'joking': 4297,\n",
              " 'wif': 8365,\n",
              " 'oni': 5512,\n",
              " 'free': 3346,\n",
              " 'entry': 2939,\n",
              " 'wkly': 8420,\n",
              " 'comp': 2161,\n",
              " 'to': 7732,\n",
              " 'win': 8378,\n",
              " 'fa': 3076,\n",
              " 'cup': 2380,\n",
              " 'final': 3196,\n",
              " 'tkts': 7719,\n",
              " '21st': 411,\n",
              " 'may': 4910,\n",
              " '2005': 402,\n",
              " 'text': 7573,\n",
              " '87121': 784,\n",
              " 'receive': 6275,\n",
              " 'question': 6168,\n",
              " 'std': 7207,\n",
              " 'txt': 7908,\n",
              " 'rate': 6220,\n",
              " 'apply': 1157,\n",
              " '08452810075over18': 77,\n",
              " 'dun': 2793,\n",
              " 'say': 6610,\n",
              " 'so': 7002,\n",
              " 'early': 2814,\n",
              " 'hor': 3913,\n",
              " 'already': 1043,\n",
              " 'then': 7616,\n",
              " 'nah': 5219,\n",
              " 'don': 2704,\n",
              " 'think': 7636,\n",
              " 'he': 3768,\n",
              " 'goes': 3546,\n",
              " 'usf': 8050,\n",
              " 'lives': 4645,\n",
              " 'around': 1208,\n",
              " 'here': 3818,\n",
              " 'though': 7656,\n",
              " 'freemsg': 3353,\n",
              " 'hey': 3828,\n",
              " 'darling': 2437,\n",
              " 'it': 4203,\n",
              " 'been': 1460,\n",
              " 'week': 8287,\n",
              " 'now': 5401,\n",
              " 'and': 1085,\n",
              " 'no': 5348,\n",
              " 'word': 8453,\n",
              " 'back': 1351,\n",
              " 'like': 4595,\n",
              " 'some': 7017,\n",
              " 'fun': 3407,\n",
              " 'you': 8582,\n",
              " 'up': 8007,\n",
              " 'for': 3297,\n",
              " 'still': 7230,\n",
              " 'tb': 7506,\n",
              " 'xxx': 8528,\n",
              " 'chgs': 1998,\n",
              " 'send': 6701,\n",
              " '50': 607,\n",
              " 'rcv': 6233,\n",
              " 'even': 2988,\n",
              " 'my': 5204,\n",
              " 'brother': 1722,\n",
              " 'is': 4192,\n",
              " 'not': 5386,\n",
              " 'speak': 7089,\n",
              " 'with': 8406,\n",
              " 'me': 4919,\n",
              " 'they': 7629,\n",
              " 'treat': 7839,\n",
              " 'aids': 993,\n",
              " 'patent': 5701,\n",
              " 'as': 1225,\n",
              " 'per': 5743,\n",
              " 'your': 8588,\n",
              " 'request': 6384,\n",
              " 'melle': 4949,\n",
              " 'oru': 5572,\n",
              " 'minnaminunginte': 5016,\n",
              " 'nurungu': 5421,\n",
              " 'vettam': 8106,\n",
              " 'has': 3745,\n",
              " 'set': 6728,\n",
              " 'callertune': 1821,\n",
              " 'all': 1030,\n",
              " 'callers': 1820,\n",
              " 'press': 6020,\n",
              " 'copy': 2262,\n",
              " 'friends': 3369,\n",
              " 'winner': 8389,\n",
              " 'valued': 8075,\n",
              " 'network': 5298,\n",
              " 'customer': 2393,\n",
              " 'have': 3758,\n",
              " 'selected': 6687,\n",
              " 'receivea': 6276,\n",
              " '900': 816,\n",
              " 'prize': 6052,\n",
              " 'reward': 6439,\n",
              " 'claim': 2050,\n",
              " 'call': 1811,\n",
              " '09061701461': 224,\n",
              " 'code': 2116,\n",
              " 'kl341': 4418,\n",
              " 'valid': 8071,\n",
              " '12': 322,\n",
              " 'hours': 3933,\n",
              " 'had': 3687,\n",
              " 'mobile': 5069,\n",
              " '11': 312,\n",
              " 'months': 5109,\n",
              " 'or': 5549,\n",
              " 'more': 5113,\n",
              " 'entitled': 2936,\n",
              " 'update': 8012,\n",
              " 'the': 7603,\n",
              " 'latest': 4505,\n",
              " 'colour': 2137,\n",
              " 'mobiles': 5070,\n",
              " 'camera': 1832,\n",
              " 'co': 2105,\n",
              " 'on': 5504,\n",
              " '08002986030': 61,\n",
              " 'gonna': 3562,\n",
              " 'be': 1438,\n",
              " 'home': 3887,\n",
              " 'soon': 7044,\n",
              " 'want': 8220,\n",
              " 'talk': 7473,\n",
              " 'about': 860,\n",
              " 'this': 7645,\n",
              " 'stuff': 7297,\n",
              " 'anymore': 1124,\n",
              " 'tonight': 7768,\n",
              " 've': 8090,\n",
              " 'cried': 2338,\n",
              " 'enough': 2926,\n",
              " 'today': 7739,\n",
              " 'six': 6906,\n",
              " 'chances': 1939,\n",
              " 'cash': 1885,\n",
              " 'from': 3385,\n",
              " '100': 298,\n",
              " '20': 397,\n",
              " '000': 1,\n",
              " 'pounds': 5961,\n",
              " 'csh11': 2357,\n",
              " '87575': 789,\n",
              " 'cost': 2274,\n",
              " '150p': 351,\n",
              " 'day': 2452,\n",
              " '6days': 680,\n",
              " '16': 363,\n",
              " 'tsandcs': 7873,\n",
              " 'reply': 6377,\n",
              " 'hl': 3859,\n",
              " 'info': 4108,\n",
              " 'urgent': 8030,\n",
              " 'won': 8437,\n",
              " 'membership': 4955,\n",
              " 'our': 5585,\n",
              " 'jackpot': 4227,\n",
              " '81010': 737,\n",
              " 'www': 8510,\n",
              " 'dbuk': 2457,\n",
              " 'net': 5292,\n",
              " 'lccltd': 4522,\n",
              " 'pobox': 5878,\n",
              " '4403ldnw1a7rw18': 559,\n",
              " 'searching': 6656,\n",
              " 'right': 6451,\n",
              " 'words': 8454,\n",
              " 'thank': 7590,\n",
              " 'breather': 1691,\n",
              " 'promise': 6084,\n",
              " 'wont': 8444,\n",
              " 'take': 7465,\n",
              " 'help': 3804,\n",
              " 'granted': 3611,\n",
              " 'will': 8375,\n",
              " 'fulfil': 3403,\n",
              " 'wonderful': 8441,\n",
              " 'blessing': 1567,\n",
              " 'at': 1261,\n",
              " 'times': 7698,\n",
              " 'date': 2445,\n",
              " 'sunday': 7365,\n",
              " 'xxxmobilemovieclub': 8529,\n",
              " 'use': 8044,\n",
              " 'credit': 2328,\n",
              " 'click': 2073,\n",
              " 'wap': 8225,\n",
              " 'link': 4617,\n",
              " 'next': 5315,\n",
              " 'message': 4973,\n",
              " 'http': 3954,\n",
              " 'com': 2140,\n",
              " 'qjkgighjjgcbl': 6160,\n",
              " 'oh': 5478,\n",
              " 'watching': 8246,\n",
              " 'eh': 2861,\n",
              " 'remember': 6344,\n",
              " 'how': 3939,\n",
              " 'spell': 7104,\n",
              " 'his': 3850,\n",
              " 'name': 5225,\n",
              " 'yes': 8565,\n",
              " 'did': 2586,\n",
              " 'naughty': 5252,\n",
              " 'make': 4829,\n",
              " 'wet': 8324,\n",
              " 'fine': 3204,\n",
              " 'if': 4027,\n",
              " 'that': 7599,\n",
              " 'way': 8258,\n",
              " 'feel': 3147,\n",
              " 'its': 4210,\n",
              " 'gota': 3583,\n",
              " 'england': 2918,\n",
              " 'macedonia': 4791,\n",
              " 'dont': 2708,\n",
              " 'miss': 5032,\n",
              " 'goals': 3542,\n",
              " 'team': 7519,\n",
              " 'news': 5311,\n",
              " 'ur': 8026,\n",
              " 'national': 5246,\n",
              " '87077': 783,\n",
              " 'eg': 2856,\n",
              " 'try': 7869,\n",
              " 'wales': 8200,\n",
              " 'scotland': 6635,\n",
              " '4txt': 599,\n",
              " 'poboxox36504w45wq': 5890,\n",
              " 'seriously': 6721,\n",
              " 'going': 3551,\n",
              " 'ha': 3683,\n",
              " 'pay': 5713,\n",
              " 'first': 3221,\n",
              " 'when': 8335,\n",
              " 'da': 2410,\n",
              " 'stock': 7233,\n",
              " 'comin': 2151,\n",
              " 'aft': 963,\n",
              " 'finish': 3207,\n",
              " 'lunch': 4757,\n",
              " 'str': 7258,\n",
              " 'down': 2728,\n",
              " 'lor': 4700,\n",
              " 'ard': 1183,\n",
              " 'smth': 6985,\n",
              " 'ffffffffff': 3166,\n",
              " 'alright': 1044,\n",
              " 'can': 1836,\n",
              " 'meet': 4938,\n",
              " 'sooner': 7045,\n",
              " 'just': 4331,\n",
              " 'forced': 3299,\n",
              " 'myself': 5209,\n",
              " 'eat': 2826,\n",
              " 'slice': 6937,\n",
              " 'really': 6258,\n",
              " 'hungry': 3974,\n",
              " 'tho': 7652,\n",
              " 'sucks': 7334,\n",
              " 'mark': 4866,\n",
              " 'getting': 3499,\n",
              " 'worried': 8465,\n",
              " 'knows': 4429,\n",
              " 'sick': 6855,\n",
              " 'turn': 7892,\n",
              " 'pizza': 5833,\n",
              " 'lol': 4677,\n",
              " 'always': 1053,\n",
              " 'convincing': 2250,\n",
              " 'catch': 1895,\n",
              " 'bus': 1771,\n",
              " 'are': 1184,\n",
              " 'frying': 3391,\n",
              " 'an': 1080,\n",
              " 'egg': 2858,\n",
              " 'tea': 7513,\n",
              " 'eating': 2829,\n",
              " 'mom': 5090,\n",
              " 'left': 4546,\n",
              " 'over': 5606,\n",
              " 'dinner': 2617,\n",
              " 'do': 2668,\n",
              " 'love': 4721,\n",
              " 'amp': 1072,\n",
              " 'we': 8263,\n",
              " 're': 6237,\n",
              " 'packing': 5632,\n",
              " 'car': 1857,\n",
              " 'll': 4649,\n",
              " 'let': 4567,\n",
              " 'know': 4426,\n",
              " 'room': 6491,\n",
              " 'ahhh': 988,\n",
              " 'work': 8455,\n",
              " 'vaguely': 8067,\n",
              " 'what': 8328,\n",
              " 'does': 2680,\n",
              " 'wait': 8194,\n",
              " 'clear': 2067,\n",
              " 'were': 8313,\n",
              " 'sure': 7391,\n",
              " 'being': 1478,\n",
              " 'sarcastic': 6590,\n",
              " 'why': 8358,\n",
              " 'doesn': 2682,\n",
              " 'live': 4641,\n",
              " 'us': 8040,\n",
              " 'yeah': 8553,\n",
              " 'was': 8234,\n",
              " 'apologetic': 1144,\n",
              " 'fallen': 3101,\n",
              " 'out': 5588,\n",
              " 'she': 6773,\n",
              " 'actin': 905,\n",
              " 'spoilt': 7131,\n",
              " 'child': 2006,\n",
              " 'caught': 1899,\n",
              " 'till': 7695,\n",
              " 'but': 1778,\n",
              " 'doing': 2694,\n",
              " 'too': 7772,\n",
              " 'badly': 1356,\n",
              " 'cheers': 1982,\n",
              " 'tell': 7537,\n",
              " 'anything': 1130,\n",
              " 'fear': 3139,\n",
              " 'of': 5457,\n",
              " 'fainting': 3093,\n",
              " 'housework': 3937,\n",
              " 'quick': 6171,\n",
              " 'cuppa': 2382,\n",
              " 'thanks': 7591,\n",
              " 'subscription': 7322,\n",
              " 'ringtone': 6460,\n",
              " 'uk': 7938,\n",
              " 'charged': 1951,\n",
              " 'month': 5106,\n",
              " 'please': 5858,\n",
              " 'confirm': 2205,\n",
              " 'by': 1794,\n",
              " 'replying': 6378,\n",
              " 'yup': 8609,\n",
              " 'look': 4688,\n",
              " 'timings': 7702,\n",
              " 'msg': 5149,\n",
              " 'again': 971,\n",
              " 'xuhui': 8524,\n",
              " 'learn': 4536,\n",
              " '2nd': 461,\n",
              " 'her': 3817,\n",
              " 'lesson': 4565,\n",
              " '8am': 809,\n",
              " 'oops': 5527,\n",
              " 'roommate': 6493,\n",
              " 'done': 2706,\n",
              " 'see': 6673,\n",
              " 'letter': 4569,\n",
              " 'decide': 2475,\n",
              " 'hello': 3801,\n",
              " 'saturday': 6602,\n",
              " 'texting': 7581,\n",
              " 'decided': 2476,\n",
              " 'tomo': 7757,\n",
              " 'trying': 7871,\n",
              " 'invite': 4166,\n",
              " 'pls': 5866,\n",
              " 'ahead': 987,\n",
              " 'watts': 8254,\n",
              " 'wanted': 8222,\n",
              " 'weekend': 8289,\n",
              " 'abiola': 856,\n",
              " 'forget': 3305,\n",
              " 'need': 5272,\n",
              " 'crave': 2318,\n",
              " 'most': 5122,\n",
              " 'sweet': 7422,\n",
              " 'arabian': 1180,\n",
              " 'steed': 7214,\n",
              " 'mmmmmm': 5059,\n",
              " 'yummy': 8604,\n",
              " '07732584351': 30,\n",
              " 'rodger': 6481,\n",
              " 'burns': 1768,\n",
              " 'tried': 7848,\n",
              " 'sms': 6980,\n",
              " 'nokia': 5358,\n",
              " 'camcorder': 1830,\n",
              " '08000930705': 57,\n",
              " 'delivery': 2515,\n",
              " 'tomorrow': 7759,\n",
              " 'who': 8351,\n",
              " 'seeing': 6675,\n",
              " 'hope': 3905,\n",
              " 'man': 4839,\n",
              " 'well': 8304,\n",
              " 'endowed': 2908,\n",
              " 'am': 1055,\n",
              " 'lt': 4744,\n",
              " 'gt': 3651,\n",
              " 'inches': 4077,\n",
              " 'calls': 1826,\n",
              " 'messages': 4975,\n",
              " 'missed': 5034,\n",
              " 'didn': 2588,\n",
              " 'get': 3491,\n",
              " 'hep': 3816,\n",
              " 'immunisation': 4056,\n",
              " 'nigeria': 5325,\n",
              " 'fair': 3094,\n",
              " 'hopefully': 3908,\n",
              " 'tyler': 7921,\n",
              " 'could': 2284,\n",
              " 'maybe': 4912,\n",
              " 'ask': 1235,\n",
              " 'bit': 1544,\n",
              " 'stubborn': 7286,\n",
              " 'hospital': 3920,\n",
              " 'kept': 4375,\n",
              " 'telling': 7538,\n",
              " 'weak': 8264,\n",
              " 'sucker': 7332,\n",
              " 'hospitals': 3921,\n",
              " 'suckers': 7333,\n",
              " 'thinked': 7637,\n",
              " 'time': 7697,\n",
              " 'saw': 6609,\n",
              " 'class': 2059,\n",
              " 'gram': 3603,\n",
              " 'usually': 8056,\n",
              " 'runs': 6534,\n",
              " 'half': 3699,\n",
              " 'eighth': 2864,\n",
              " 'smarter': 6960,\n",
              " 'gets': 3495,\n",
              " 'almost': 1039,\n",
              " 'whole': 8352,\n",
              " 'second': 6660,\n",
              " 'fyi': 3423,\n",
              " 'ride': 6450,\n",
              " 'morning': 5117,\n",
              " 'crashing': 2317,\n",
              " 'place': 5835,\n",
              " 'wow': 8481,\n",
              " 'never': 5302,\n",
              " 'realized': 6256,\n",
              " 'embarassed': 2889,\n",
              " 'accomodations': 887,\n",
              " 'thought': 7657,\n",
              " 'liked': 4596,\n",
              " 'since': 6880,\n",
              " 'best': 1498,\n",
              " 'seemed': 6679,\n",
              " 'happy': 3734,\n",
              " 'cave': 1903,\n",
              " 'sorry': 7054,\n",
              " 'give': 3520,\n",
              " 'offered': 5464,\n",
              " 'embarassing': 2890,\n",
              " 'ac': 873,\n",
              " 'sptv': 7153,\n",
              " 'new': 5306,\n",
              " 'jersey': 4268,\n",
              " 'devils': 2567,\n",
              " 'detroit': 2561,\n",
              " 'red': 6298,\n",
              " 'wings': 8387,\n",
              " 'play': 5849,\n",
              " 'ice': 4008,\n",
              " 'hockey': 3872,\n",
              " 'correct': 2267,\n",
              " 'incorrect': 4088,\n",
              " 'end': 2904,\n",
              " 'mallika': 4838,\n",
              " 'sherawat': 6780,\n",
              " 'yesterday': 8567,\n",
              " 'find': 3201,\n",
              " 'url': 8036,\n",
              " 'congrats': 2211,\n",
              " 'year': 8554,\n",
              " 'special': 7091,\n",
              " 'cinema': 2045,\n",
              " 'pass': 5690,\n",
              " 'yours': 8592,\n",
              " '09061209465': 219,\n",
              " 'suprman': 7389,\n",
              " 'matrix3': 4899,\n",
              " 'starwars3': 7195,\n",
              " 'etc': 2976,\n",
              " 'bx420': 1792,\n",
              " 'ip4': 4175,\n",
              " '5we': 641,\n",
              " '150pm': 353,\n",
              " 'later': 4504,\n",
              " 'meeting': 4940,\n",
              " 'where': 8339,\n",
              " 'reached': 6240,\n",
              " 'gauti': 3457,\n",
              " 'sehwag': 6684,\n",
              " 'odi': 5456,\n",
              " 'series': 6719,\n",
              " 'pick': 5805,\n",
              " 'burger': 1763,\n",
              " 'yourself': 8593,\n",
              " 'move': 5135,\n",
              " 'pain': 5639,\n",
              " 'killing': 4400,\n",
              " 'good': 3564,\n",
              " 'joke': 4293,\n",
              " 'girls': 3517,\n",
              " 'situation': 6903,\n",
              " 'seekers': 6676,\n",
              " 'part': 5679,\n",
              " 'checking': 1976,\n",
              " 'iq': 4181,\n",
              " 'roommates': 6494,\n",
              " 'took': 7773,\n",
              " 'forever': 3302,\n",
              " 'come': 2146,\n",
              " 'double': 2721,\n",
              " 'check': 1972,\n",
              " 'hair': 3694,\n",
              " 'dresser': 2751,\n",
              " 'said': 6560,\n",
              " 'wun': 8509,\n",
              " 'cut': 2397,\n",
              " 'short': 6815,\n",
              " 'nice': 5319,\n",
              " 'pleased': 5859,\n",
              " 'advise': 946,\n",
              " 'following': 3280,\n",
              " 'recent': 6279,\n",
              " 'review': 6437,\n",
              " 'mob': 5067,\n",
              " 'awarded': 1321,\n",
              " '1500': 350,\n",
              " 'bonus': 1608,\n",
              " '09066364589': 267,\n",
              " 'song': 7039,\n",
              " 'dedicated': 2486,\n",
              " 'which': 8345,\n",
              " 'dedicate': 2485,\n",
              " 'valuable': 8073,\n",
              " 'frnds': 3377,\n",
              " 'rply': 6510,\n",
              " 'complimentary': 2180,\n",
              " 'trip': 7849,\n",
              " 'eurodisinc': 2982,\n",
              " 'trav': 7831,\n",
              " 'aco': 901,\n",
              " 'entry41': 2940,\n",
              " '1000': 299,\n",
              " 'dis': 2629,\n",
              " '18': 368,\n",
              " 'morefrmmob': 5114,\n",
              " 'shracomorsglsuplt': 6840,\n",
              " '10': 297,\n",
              " 'ls1': 4740,\n",
              " '3aj': 518,\n",
              " 'hear': 3780,\n",
              " 'divorce': 2658,\n",
              " 'barbie': 1387,\n",
              " 'comes': 2148,\n",
              " 'ken': 4373,\n",
              " 'plane': 5841,\n",
              " 'wah': 8187,\n",
              " 'lucky': 4751,\n",
              " 'save': 6605,\n",
              " 'money': 5097,\n",
              " 'hee': 3793,\n",
              " 'finished': 3209,\n",
              " 'hi': 3832,\n",
              " 'babe': 1342,\n",
              " 'im': 4044,\n",
              " 'wanna': 8218,\n",
              " 'something': 7027,\n",
              " 'xx': 8525,\n",
              " 'performed': 5750,\n",
              " 'waiting': 8197,\n",
              " 'machan': 4793,\n",
              " 'once': 5508,\n",
              " 'thats': 7602,\n",
              " 'cool': 2255,\n",
              " 'gentleman': 3482,\n",
              " 'dignity': 2607,\n",
              " 'respect': 6404,\n",
              " 'peoples': 5742,\n",
              " 'very': 8105,\n",
              " 'much': 5167,\n",
              " 'shy': 6850,\n",
              " 'pa': 5628,\n",
              " 'operate': 5534,\n",
              " 'after': 964,\n",
              " 'same': 6575,\n",
              " 'looking': 4692,\n",
              " 'job': 4283,\n",
              " 'ta': 7450,\n",
              " 'earn': 2815,\n",
              " 'ah': 985,\n",
              " 'stop': 7243,\n",
              " 'urgnt': 8033,\n",
              " 'real': 6249,\n",
              " 'yo': 8577,\n",
              " 'tickets': 7685,\n",
              " 'one': 5510,\n",
              " 'jacket': 4226,\n",
              " 'used': 8045,\n",
              " 'multis': 5176,\n",
              " 'started': 7190,\n",
              " 'requests': 6385,\n",
              " 'came': 1831,\n",
              " 'bed': 1455,\n",
              " 'coins': 2122,\n",
              " 'factory': 3083,\n",
              " 'gotta': 3588,\n",
              " 'nitros': 5343,\n",
              " 'ela': 2869,\n",
              " 'kano': 4354,\n",
              " 'il': 4039,\n",
              " 'download': 2729,\n",
              " 'wen': 8307,\n",
              " 'stand': 7178,\n",
              " 'close': 2080,\n",
              " 'another': 1107,\n",
              " 'night': 5327,\n",
              " 'spent': 7109,\n",
              " 'late': 4501,\n",
              " 'afternoon': 966,\n",
              " 'casualty': 1893,\n",
              " 'means': 4926,\n",
              " 'haven': 3759,\n",
              " 'any': 1121,\n",
              " 'stuff42moro': 7298,\n",
              " 'includes': 4081,\n",
              " 'sheets': 6775,\n",
              " 'smile': 6968,\n",
              " 'pleasure': 5861,\n",
              " 'trouble': 7856,\n",
              " 'pours': 5963,\n",
              " 'rain': 6194,\n",
              " 'sum1': 7356,\n",
              " 'hurts': 3984,\n",
              " 'becoz': 1453,\n",
              " 'someone': 7021,\n",
              " 'loves': 4729,\n",
              " 'smiling': 6972,\n",
              " 'service': 6724,\n",
              " 'representative': 6382,\n",
              " '0800': 53,\n",
              " '169': 366,\n",
              " '6031': 647,\n",
              " 'between': 1507,\n",
              " '10am': 307,\n",
              " '9pm': 835,\n",
              " 'guaranteed': 3654,\n",
              " '5000': 609,\n",
              " 'havent': 3760,\n",
              " 'planning': 5845,\n",
              " 'buy': 1783,\n",
              " 'lido': 4580,\n",
              " '530': 627,\n",
              " 'show': 6831,\n",
              " 'collected': 2131,\n",
              " 'simply': 6877,\n",
              " 'password': 5697,\n",
              " 'mix': 5050,\n",
              " '85069': 770,\n",
              " 'verify': 8101,\n",
              " 'usher': 8051,\n",
              " 'britney': 1712,\n",
              " 'fml': 3271,\n",
              " 'telugu': 7543,\n",
              " 'movie': 5138,\n",
              " 'abt': 868,\n",
              " 'loads': 4656,\n",
              " 'loans': 4658,\n",
              " 'wk': 8416,\n",
              " 'hols': 3885,\n",
              " 'run': 6532,\n",
              " 'forgot': 3310,\n",
              " 'hairdressers': 3696,\n",
              " 'appointment': 1160,\n",
              " 'four': 3327,\n",
              " 'shower': 6833,\n",
              " 'beforehand': 1467,\n",
              " 'cause': 1900,\n",
              " 'prob': 6057,\n",
              " 'ham': 3705,\n",
              " 'nothing': 5391,\n",
              " 'else': 2883,\n",
              " 'okay': 5484,\n",
              " 'price': 6033,\n",
              " 'long': 4684,\n",
              " 'legal': 4549,\n",
              " 'them': 7612,\n",
              " 'ave': 1308,\n",
              " 'ams': 1076,\n",
              " 'gone': 3560,\n",
              " '4the': 597,\n",
              " 'driving': 2760,\n",
              " 'test': 7567,\n",
              " 'yet': 8568,\n",
              " 'mean': 4922,\n",
              " 'guess': 3660,\n",
              " 'gave': 3458,\n",
              " 'boston': 1629,\n",
              " 'men': 4959,\n",
              " 'changed': 1941,\n",
              " 'search': 6655,\n",
              " 'location': 4661,\n",
              " 'nyc': 5432,\n",
              " 'cuz': 2404,\n",
              " 'signin': 6865,\n",
              " 'page': 5635,\n",
              " 'says': 6613,\n",
              " 'umma': 7945,\n",
              " 'life': 4583,\n",
              " 'vava': 8087,\n",
              " 'lot': 4708,\n",
              " 'dear': 2465,\n",
              " 'wishes': 8400,\n",
              " 'birthday': 1542,\n",
              " 'making': 4833,\n",
              " 'truly': 7864,\n",
              " 'memorable': 4956,\n",
              " 'aight': 995,\n",
              " 'hit': 3852,\n",
              " 'would': 8477,\n",
              " 'ip': 4174,\n",
              " 'address': 923,\n",
              " 'considering': 2223,\n",
              " 'computer': 2186,\n",
              " 'isn': 4199,\n",
              " 'minecraft': 5010,\n",
              " 'server': 6723,\n",
              " 'grumpy': 3648,\n",
              " 'old': 5496,\n",
              " 'people': 5741,\n",
              " 'better': 1504,\n",
              " 'lying': 4771,\n",
              " 'jokes': 4295,\n",
              " 'worry': 8467,\n",
              " 'busy': 1777,\n",
              " 'plural': 5870,\n",
              " 'noun': 5398,\n",
              " 'research': 6390,\n",
              " 'cos': 2272,\n",
              " 'things': 7635,\n",
              " 'scared': 6619,\n",
              " 'mah': 4816,\n",
              " 'loud': 4716,\n",
              " 'gent': 3480,\n",
              " 'contact': 2228,\n",
              " 'last': 4498,\n",
              " 'weekends': 8290,\n",
              " 'draw': 2743,\n",
              " 'shows': 6839,\n",
              " '09064012160': 243,\n",
              " 'k52': 4337,\n",
              " '12hrs': 333,\n",
              " '150ppm': 355,\n",
              " 'wa': 8182,\n",
              " 'openin': 5531,\n",
              " 'sentence': 6712,\n",
              " 'formal': 3314,\n",
              " 'anyway': 1133,\n",
              " 'juz': 4336,\n",
              " 'tt': 7879,\n",
              " 'eatin': 2828,\n",
              " 'puttin': 6150,\n",
              " 'weight': 8295,\n",
              " 'haha': 3690,\n",
              " 'anythin': 1129,\n",
              " 'happened': 3726,\n",
              " 'entered': 2929,\n",
              " 'cabin': 1799,\n",
              " 'boss': 1628,\n",
              " 'felt': 3156,\n",
              " 'askd': 1236,\n",
              " 'invited': 4167,\n",
              " 'apartment': 1138,\n",
              " 'went': 8310,\n",
              " 'specially': 7095,\n",
              " 'holiday': 3882,\n",
              " 'flights': 3247,\n",
              " 'inc': 4075,\n",
              " 'operator': 5535,\n",
              " '0871277810910p': 129,\n",
              " 'min': 5003,\n",
              " 'goodo': 3573,\n",
              " 'must': 5195,\n",
              " 'friday': 3364,\n",
              " 'potato': 5955,\n",
              " 'ratio': 6223,\n",
              " 'tortilla': 7790,\n",
              " 'needed': 5274,\n",
              " 'hmm': 3864,\n",
              " 'uncle': 7954,\n",
              " 'informed': 4111,\n",
              " 'paying': 5718,\n",
              " 'school': 6625,\n",
              " 'directly': 2623,\n",
              " 'food': 3287,\n",
              " 'private': 6049,\n",
              " '2004': 401,\n",
              " 'account': 890,\n",
              " 'statement': 7198,\n",
              " '07742676969': 32,\n",
              " '786': 709,\n",
              " 'unredeemed': 7998,\n",
              " 'points': 5900,\n",
              " '08719180248': 175,\n",
              " 'identifier': 4020,\n",
              " '45239': 570,\n",
              " 'expires': 3055,\n",
              " '2000': 399,\n",
              " 'caller': 1819,\n",
              " '03': 15,\n",
              " 'landline': 4478,\n",
              " '09064019788': 249,\n",
              " 'box42wr29c': 1654,\n",
              " 'apples': 1155,\n",
              " 'pairs': 5643,\n",
              " 'malarky': 4835,\n",
              " 'todays': 7740,\n",
              " 'voda': 8151,\n",
              " 'numbers': 5418,\n",
              " 'ending': 2906,\n",
              " '7548': 701,\n",
              " '350': 506,\n",
              " 'award': 1320,\n",
              " 'match': 4887,\n",
              " '08712300220': 111,\n",
              " 'quoting': 6182,\n",
              " '4041': 543,\n",
              " 'standard': 7179,\n",
              " 'rates': 6221,\n",
              " 'app': 1148,\n",
              " 'sao': 6584,\n",
              " 'mu': 5165,\n",
              " 'predict': 5995,\n",
              " 'buying': 1786,\n",
              " 'yetunde': 8570,\n",
              " 'hasn': 3747,\n",
              " 'sent': 6711,\n",
              " 'bother': 1632,\n",
              " 'sending': 6703,\n",
              " 'involve': 4171,\n",
              " 'shouldn': 6826,\n",
              " 'imposed': 4063,\n",
              " 'apologise': 1145,\n",
              " 'girl': 3514,\n",
              " 'del': 2505,\n",
              " 'bak': 1364,\n",
              " 'sum': 7355,\n",
              " 'lucyxx': 4754,\n",
              " 'tmorrow': 7725,\n",
              " 'accomodate': 886,\n",
              " 'answer': 1110,\n",
              " 'sunshine': 7372,\n",
              " 'quiz': 6178,\n",
              " 'top': 7781,\n",
              " 'sony': 7041,\n",
              " 'dvd': 2803,\n",
              " 'player': 5851,\n",
              " 'country': 2290,\n",
              " 'algarve': 1023,\n",
              " 'ansr': 1109,\n",
              " '82277': 744,\n",
              " 'sp': 7076,\n",
              " 'tyrone': 7925,\n",
              " 'laid': 4470,\n",
              " 'dogging': 2688,\n",
              " 'locations': 4662,\n",
              " 'direct': 2622,\n",
              " 'join': 4290,\n",
              " 'largest': 4495,\n",
              " 'bt': 1738,\n",
              " 'txting': 7914,\n",
              " 'gravel': 3616,\n",
              " '69888': 675,\n",
              " 'nt': 5408,\n",
              " 'ec2a': 2831,\n",
              " '31p': 498,\n",
              " 'haf': 3689,\n",
              " 'msn': 5156,\n",
              " 'yijue': 8574,\n",
              " 'hotmail': 3928,\n",
              " 'him': 3843,\n",
              " 'rooms': 6495,\n",
              " 'befor': 1465,\n",
              " 'activities': 911,\n",
              " 'msgs': 5155,\n",
              " 'chat': 1962,\n",
              " 'svc': 7407,\n",
              " 'hardcore': 3736,\n",
              " 'services': 6725,\n",
              " '69988': 679,\n",
              " 'age': 974,\n",
              " 'yr': 8599,\n",
              " 'lazy': 4521,\n",
              " 'type': 7922,\n",
              " 'lect': 4543,\n",
              " 'pouch': 5958,\n",
              " 'sir': 6892,\n",
              " 'mail': 4821,\n",
              " 'swt': 7436,\n",
              " 'nver': 5426,\n",
              " 'tired': 7705,\n",
              " 'little': 4640,\n",
              " 'lovable': 4720,\n",
              " 'persons': 5768,\n",
              " 'coz': 2303,\n",
              " 'somtimes': 7036,\n",
              " 'those': 7653,\n",
              " 'occupy': 5449,\n",
              " 'biggest': 1524,\n",
              " 'their': 7609,\n",
              " 'hearts': 3786,\n",
              " 'gud': 3656,\n",
              " 'ni8': 5317,\n",
              " 'open': 5528,\n",
              " 'ya': 8538,\n",
              " 'dot': 2720,\n",
              " 'whats': 8330,\n",
              " 'staff': 7170,\n",
              " 'taking': 7470,\n",
              " 'replied': 6375,\n",
              " 'randy': 6214,\n",
              " 'sexy': 6741,\n",
              " 'female': 3157,\n",
              " 'local': 4660,\n",
              " 'luv': 4762,\n",
              " 'netcollex': 5293,\n",
              " 'ltd': 4745,\n",
              " '08700621170150p': 81,\n",
              " 'ummma': 7947,\n",
              " 'begin': 1471,\n",
              " 'qatar': 6155,\n",
              " 'pray': 5990,\n",
              " 'hard': 3735,\n",
              " 'deleted': 2509,\n",
              " 'sindu': 6882,\n",
              " 'birla': 1538,\n",
              " 'soft': 7007,\n",
              " 'wine': 8385,\n",
              " 'flowing': 3262,\n",
              " 'nevering': 5303,\n",
              " 'thk': 7646,\n",
              " 'plaza': 5856,\n",
              " 'typical': 7924,\n",
              " 'everywhere': 3006,\n",
              " 'dirt': 2626,\n",
              " 'floor': 3256,\n",
              " 'windows': 8382,\n",
              " 'shirt': 6794,\n",
              " 'sometimes': 7029,\n",
              " 'mouth': 5134,\n",
              " 'dream': 2746,\n",
              " 'without': 8410,\n",
              " 'chores': 2033,\n",
              " 'joy': 4308,\n",
              " 'lots': 4710,\n",
              " 'tv': 7897,\n",
              " 'exist': 3040,\n",
              " 'hail': 3693,\n",
              " 'mist': 5042,\n",
              " 'become': 1451,\n",
              " 'aaooooright': 846,\n",
              " ...}"
            ]
          },
          "metadata": {},
          "execution_count": 75
        }
      ]
    },
    {
      "cell_type": "code",
      "source": [
        "on_sentences_1 = vectorizer.transform(data['v2'])\n",
        "print(on_sentences_1.shape)\n",
        "on_sentences_1.toarray()[1]"
      ],
      "metadata": {
        "colab": {
          "base_uri": "https://localhost:8080/"
        },
        "id": "5T0xtCfX3yH1",
        "outputId": "d417fbeb-dda1-4ad0-ca89-e2bb1b272e30"
      },
      "execution_count": 76,
      "outputs": [
        {
          "output_type": "stream",
          "name": "stdout",
          "text": [
            "(5572, 8624)\n"
          ]
        },
        {
          "output_type": "execute_result",
          "data": {
            "text/plain": [
              "array([0, 0, 0, ..., 0, 0, 0])"
            ]
          },
          "metadata": {},
          "execution_count": 76
        }
      ]
    },
    {
      "cell_type": "code",
      "source": [
        "on_sentences_1= vectorizer.fit_transform(data['v2'])\n",
        "print(on_sentences_1.toarray())"
      ],
      "metadata": {
        "colab": {
          "base_uri": "https://localhost:8080/"
        },
        "id": "Cy_q2IXS3_Cj",
        "outputId": "6c908711-1d06-4ed8-8686-445afe1d6f37"
      },
      "execution_count": 77,
      "outputs": [
        {
          "output_type": "stream",
          "name": "stdout",
          "text": [
            "[[0 0 0 ... 0 0 0]\n",
            " [0 0 0 ... 0 0 0]\n",
            " [0 0 0 ... 0 0 0]\n",
            " ...\n",
            " [0 0 0 ... 0 0 0]\n",
            " [0 0 0 ... 0 0 0]\n",
            " [0 0 0 ... 0 0 0]]\n"
          ]
        }
      ]
    },
    {
      "cell_type": "markdown",
      "source": [
        "# **Using Naive Baye's**"
      ],
      "metadata": {
        "id": "4KdmlrOr4hoE"
      }
    },
    {
      "cell_type": "code",
      "source": [
        "from sklearn.naive_bayes import MultinomialNB\n",
        "multi_naive_bayes = MultinomialNB()"
      ],
      "metadata": {
        "id": "QE5JubNe4nQC"
      },
      "execution_count": 78,
      "outputs": []
    },
    {
      "cell_type": "code",
      "source": [
        "#Splitting into training and testing \n",
        "X_train,X_test,y_train,y_test = train_test_split(on_sentences_1,data['v1'],random_state=179)\n",
        "\n",
        "multi_naive_bayes.fit(X_train,y_train)\n",
        "\n",
        "predicted_using_naive_bayes = multi_naive_bayes.predict(X_test)"
      ],
      "metadata": {
        "id": "x9CfPLmn4xqT"
      },
      "execution_count": 79,
      "outputs": []
    },
    {
      "cell_type": "code",
      "source": [
        "print(\"Precision :\", precision_score(y_test,predicted_using_naive_bayes))\n",
        "print(\"Recall :\", recall_score(y_test,predicted_using_naive_bayes))"
      ],
      "metadata": {
        "colab": {
          "base_uri": "https://localhost:8080/"
        },
        "id": "e8DuJ4wp5gMV",
        "outputId": "07fb2f9d-6eca-42be-e355-034af5f15e7b"
      },
      "execution_count": 80,
      "outputs": [
        {
          "output_type": "stream",
          "name": "stdout",
          "text": [
            "Precision : 0.990924092409241\n",
            "Recall : 0.9844262295081967\n"
          ]
        }
      ]
    },
    {
      "cell_type": "markdown",
      "source": [
        "# **Using Decision Tree Classifier**"
      ],
      "metadata": {
        "id": "r0YwTfUY5uTP"
      }
    },
    {
      "cell_type": "code",
      "source": [
        "from sklearn.tree import DecisionTreeClassifier\n",
        "DTC = DecisionTreeClassifier()\n",
        "\n",
        "DTC.fit(X_train,y_train)\n",
        "\n",
        "predict_using_DTC = DTC.predict(X_test)\n",
        "print(\"Precision Score:\", precision_score(y_test,predict_using_DTC))\n",
        "print(\"Recall Score:\", recall_score(y_test,predict_using_DTC))"
      ],
      "metadata": {
        "colab": {
          "base_uri": "https://localhost:8080/"
        },
        "id": "zIUXLHnr6AYG",
        "outputId": "54db3294-af4f-428b-9cf3-01bf5539b793"
      },
      "execution_count": 81,
      "outputs": [
        {
          "output_type": "stream",
          "name": "stdout",
          "text": [
            "Precision Score: 0.9812550937245313\n",
            "Recall Score: 0.9868852459016394\n"
          ]
        }
      ]
    },
    {
      "cell_type": "markdown",
      "source": [
        "# **Till now we have done for unigram now let's do for Bigram**"
      ],
      "metadata": {
        "id": "4w7DnPyk6pLX"
      }
    },
    {
      "cell_type": "code",
      "source": [
        "bigram_vectorizer = CountVectorizer(stop_words={'english'},ngram_range=(2,2))"
      ],
      "metadata": {
        "id": "QR4z1tms6vQI"
      },
      "execution_count": 82,
      "outputs": []
    },
    {
      "cell_type": "code",
      "source": [
        "on_sentence_bigram = bigram_vectorizer.fit_transform(data['v2'])\n",
        "print(on_sentence_bigram.toarray())\n"
      ],
      "metadata": {
        "colab": {
          "base_uri": "https://localhost:8080/"
        },
        "id": "aMVBjUnI7C9g",
        "outputId": "85859382-6024-4378-fc12-0efdfcee9f64"
      },
      "execution_count": 83,
      "outputs": [
        {
          "output_type": "stream",
          "name": "stdout",
          "text": [
            "[[0 0 0 ... 0 0 0]\n",
            " [0 0 0 ... 0 0 0]\n",
            " [0 0 0 ... 0 0 0]\n",
            " ...\n",
            " [0 0 0 ... 0 0 0]\n",
            " [0 0 0 ... 0 0 0]\n",
            " [0 0 0 ... 0 0 0]]\n"
          ]
        }
      ]
    },
    {
      "cell_type": "code",
      "source": [
        "X_train,X_test,y_train,y_test = train_test_split(on_sentence_bigram,data['v1'],random_state=179)\n"
      ],
      "metadata": {
        "id": "FMGhnQ187V6P"
      },
      "execution_count": 84,
      "outputs": []
    },
    {
      "cell_type": "markdown",
      "source": [
        "# **Using Naive Bayes**"
      ],
      "metadata": {
        "id": "gPYjJIBK7weX"
      }
    },
    {
      "cell_type": "code",
      "source": [
        "multi_naive_bayes = MultinomialNB()\n",
        "multi_naive_bayes.fit(X_train,y_train)\n",
        "predicted_using_nb = multi_naive_bayes.predict(X_test)\n"
      ],
      "metadata": {
        "id": "jzJvh2c270Pw"
      },
      "execution_count": 85,
      "outputs": []
    },
    {
      "cell_type": "code",
      "source": [
        "print(\"Precision :\", precision_score(y_test,predicted_using_nb))\n",
        "print(\"Recall :\", recall_score(y_test,predicted_using_nb))"
      ],
      "metadata": {
        "colab": {
          "base_uri": "https://localhost:8080/"
        },
        "id": "nKhcsEG28TZQ",
        "outputId": "2587b6cb-787a-4c92-ad5e-01e867a8ccb6"
      },
      "execution_count": 86,
      "outputs": [
        {
          "output_type": "stream",
          "name": "stdout",
          "text": [
            "Precision : 0.9961389961389961\n",
            "Recall : 0.8459016393442623\n"
          ]
        }
      ]
    },
    {
      "cell_type": "markdown",
      "source": [
        "# **Using Decision Tree Classifier**"
      ],
      "metadata": {
        "id": "_xInameA8vFG"
      }
    },
    {
      "cell_type": "code",
      "source": [
        "DTC = DecisionTreeClassifier()\n",
        "DTC.fit(X_train,y_train)\n",
        "predicted_using_DTC = DTC.predict(X_test)\n"
      ],
      "metadata": {
        "id": "sMveqovC8zV0"
      },
      "execution_count": 87,
      "outputs": []
    },
    {
      "cell_type": "code",
      "source": [
        "print(\"Precision Score:\", precision_score(y_test,predicted_using_DTC))\n",
        "print(\"Recall Score:\", recall_score(y_test,predicted_using_DTC))"
      ],
      "metadata": {
        "colab": {
          "base_uri": "https://localhost:8080/"
        },
        "id": "vj9FRwBt9E-h",
        "outputId": "c3f4732f-7b53-465c-efff-c21e90e9ef9f"
      },
      "execution_count": 88,
      "outputs": [
        {
          "output_type": "stream",
          "name": "stdout",
          "text": [
            "Precision Score: 0.9626391096979332\n",
            "Recall Score: 0.9926229508196721\n"
          ]
        }
      ]
    },
    {
      "cell_type": "markdown",
      "source": [
        "## **Using TFIDF Vectorizer**"
      ],
      "metadata": {
        "id": "Zhpxgcf79RK7"
      }
    },
    {
      "cell_type": "code",
      "source": [
        "from sklearn.feature_extraction.text import TfidfVectorizer\n",
        "tfidf_vectorizer = TfidfVectorizer(stop_words={'english'})"
      ],
      "metadata": {
        "id": "sOAdUbg79ZoB"
      },
      "execution_count": 89,
      "outputs": []
    },
    {
      "cell_type": "code",
      "source": [
        "sentences_tfidf = tfidf_vectorizer.fit_transform(data['v2'])"
      ],
      "metadata": {
        "id": "caodygSQ_LQ4"
      },
      "execution_count": 90,
      "outputs": []
    },
    {
      "cell_type": "code",
      "source": [
        "X_train,X_test,y_train,y_test = train_test_split(sentences_tfidf,data['v1'],random_state=179)"
      ],
      "metadata": {
        "id": "NLeTY9jp_llp"
      },
      "execution_count": 91,
      "outputs": []
    },
    {
      "cell_type": "markdown",
      "source": [
        "# **Using Naive Bayes**"
      ],
      "metadata": {
        "id": "Ef0EMq2d_yeY"
      }
    },
    {
      "cell_type": "code",
      "source": [
        "multi_naive_bayes = MultinomialNB()\n",
        "multi_naive_bayes.fit(X_train,y_train)\n",
        "predicted_using_nb_tfidf = multi_naive_bayes.predict(X_test)"
      ],
      "metadata": {
        "id": "KwUDNtdD_2LS"
      },
      "execution_count": 92,
      "outputs": []
    },
    {
      "cell_type": "code",
      "source": [
        "print(\"Precision :\", precision_score(y_test,predicted_using_nb_tfidf))\n",
        "print(\"Recall :\", recall_score(y_test,predicted_using_nb_tfidf))"
      ],
      "metadata": {
        "colab": {
          "base_uri": "https://localhost:8080/"
        },
        "id": "IaVucsIJACxt",
        "outputId": "57e3e0ca-935d-4510-c74f-f77c289bc9f7"
      },
      "execution_count": 93,
      "outputs": [
        {
          "output_type": "stream",
          "name": "stdout",
          "text": [
            "Precision : 0.9561128526645768\n",
            "Recall : 1.0\n"
          ]
        }
      ]
    },
    {
      "cell_type": "markdown",
      "source": [
        "# **Using Decision Tree Classifier**"
      ],
      "metadata": {
        "id": "_H5AG-EyAZ28"
      }
    },
    {
      "cell_type": "code",
      "source": [
        "DTC = DecisionTreeClassifier()\n",
        "DTC.fit(X_train,y_train)\n",
        "predicted_using_DTC_tfidf = DTC.predict(X_test)"
      ],
      "metadata": {
        "id": "BK-EX591AeZl"
      },
      "execution_count": 94,
      "outputs": []
    },
    {
      "cell_type": "code",
      "source": [
        "print(\"Precision Score:\", precision_score(y_test,predicted_using_DTC_tfidf))\n",
        "print(\"Recall Score:\", recall_score(y_test,predicted_using_DTC_tfidf))"
      ],
      "metadata": {
        "colab": {
          "base_uri": "https://localhost:8080/"
        },
        "id": "xQFInVV7An58",
        "outputId": "3a6a41d8-cd84-4352-fd2b-0a4026b1691c"
      },
      "execution_count": 95,
      "outputs": [
        {
          "output_type": "stream",
          "name": "stdout",
          "text": [
            "Precision Score: 0.9780130293159609\n",
            "Recall Score: 0.9844262295081967\n"
          ]
        }
      ]
    },
    {
      "cell_type": "markdown",
      "source": [
        "# **For Bigram**"
      ],
      "metadata": {
        "id": "k-F8UyckAzDN"
      }
    },
    {
      "cell_type": "code",
      "source": [
        "tfidf_vectorizer = TfidfVectorizer(stop_words={'english'},ngram_range=(2,2))"
      ],
      "metadata": {
        "id": "4Ho_aQeaA1Su"
      },
      "execution_count": 96,
      "outputs": []
    },
    {
      "cell_type": "code",
      "source": [
        "sentences_tfidf = tfidf_vectorizer.fit_transform(data['v2'])"
      ],
      "metadata": {
        "id": "PJ54o1fBBEZe"
      },
      "execution_count": 97,
      "outputs": []
    },
    {
      "cell_type": "code",
      "source": [
        "X_train,X_test,y_train,y_test = train_test_split(sentences_tfidf,data['v1'],random_state=179)"
      ],
      "metadata": {
        "id": "vCWn75icBYu7"
      },
      "execution_count": 98,
      "outputs": []
    },
    {
      "cell_type": "markdown",
      "source": [
        "**Using Naive Bayes**"
      ],
      "metadata": {
        "id": "k78rFnkSBi9_"
      }
    },
    {
      "cell_type": "code",
      "source": [
        "multi_naive_bayes = MultinomialNB()\n",
        "multi_naive_bayes.fit(X_train,y_train)\n",
        "predicted_using_nb_tfidf_bigram = multi_naive_bayes.predict(X_test)"
      ],
      "metadata": {
        "id": "bzVmnlNOBnE-"
      },
      "execution_count": 99,
      "outputs": []
    },
    {
      "cell_type": "code",
      "source": [
        "print(\"Precision :\", precision_score(y_test,predicted_using_nb_tfidf_bigram))\n",
        "print(\"Recall :\", recall_score(y_test,predicted_using_nb_tfidf_bigram))"
      ],
      "metadata": {
        "colab": {
          "base_uri": "https://localhost:8080/"
        },
        "id": "E8WuTqvUBtvM",
        "outputId": "abb53e4e-d451-4f78-a9a8-33dd28c6d3c1"
      },
      "execution_count": 100,
      "outputs": [
        {
          "output_type": "stream",
          "name": "stdout",
          "text": [
            "Precision : 0.9377401998462721\n",
            "Recall : 1.0\n"
          ]
        }
      ]
    },
    {
      "cell_type": "markdown",
      "source": [
        "**Using Decision Tree Classifier**"
      ],
      "metadata": {
        "id": "McEN9WeQB2qz"
      }
    },
    {
      "cell_type": "code",
      "source": [
        "DTC = DecisionTreeClassifier()\n",
        "DTC.fit(X_train,y_train)\n",
        "predicted_using_DTC_tfidf_bigram = DTC.predict(X_test)"
      ],
      "metadata": {
        "id": "-RO99VSbB6Pw"
      },
      "execution_count": 101,
      "outputs": []
    },
    {
      "cell_type": "code",
      "source": [
        "print(\"Precision Score:\", precision_score(y_test,predicted_using_DTC_tfidf_bigram))\n",
        "print(\"Recall Score:\", recall_score(y_test,predicted_using_DTC_tfidf_bigram))"
      ],
      "metadata": {
        "colab": {
          "base_uri": "https://localhost:8080/"
        },
        "id": "ooSVRmvlCA-Y",
        "outputId": "67592768-a32f-471f-c777-f026161554a8"
      },
      "execution_count": 102,
      "outputs": [
        {
          "output_type": "stream",
          "name": "stdout",
          "text": [
            "Precision Score: 0.9657097288676236\n",
            "Recall Score: 0.9926229508196721\n"
          ]
        }
      ]
    }
  ]
}