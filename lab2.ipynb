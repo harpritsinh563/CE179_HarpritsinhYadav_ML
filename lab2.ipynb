{
  "nbformat": 4,
  "nbformat_minor": 0,
  "metadata": {
    "colab": {
      "name": "Untitled0.ipynb",
      "provenance": [],
      "collapsed_sections": []
    },
    "kernelspec": {
      "name": "python3",
      "display_name": "Python 3"
    },
    "language_info": {
      "name": "python"
    }
  },
  "cells": [
    {
      "cell_type": "code",
      "execution_count": 2,
      "metadata": {
        "colab": {
          "base_uri": "https://localhost:8080/"
        },
        "id": "UzwXpogkQYHd",
        "outputId": "ed7cfe45-decf-4e65-ac04-3e1641665fe5"
      },
      "outputs": [
        {
          "output_type": "stream",
          "name": "stdout",
          "text": [
            "\n",
            "Data :\n",
            "       Unnamed: 0  Price   Age     KM  ... Automatic    CC  Doors  Weight\n",
            "0              0  13500  23.0  46986  ...         0  2000  three    1165\n",
            "1              1  13750  23.0  72937  ...         0  2000      3    1165\n",
            "2              2  13950  24.0  41711  ...         0  2000      3    1165\n",
            "3              3  14950  26.0  48000  ...         0  2000      3    1165\n",
            "4              4  13750  30.0  38500  ...         0  2000      3    1170\n",
            "...          ...    ...   ...    ...  ...       ...   ...    ...     ...\n",
            "1431        1431   7500   NaN  20544  ...         0  1300      3    1025\n",
            "1432        1432  10845  72.0     ??  ...         0  1300      3    1015\n",
            "1433        1433   8500   NaN  17016  ...         0  1300      3    1015\n",
            "1434        1434   7250  70.0     ??  ...         0  1300      3    1015\n",
            "1435        1435   6950  76.0      1  ...         0  1600      5    1114\n",
            "\n",
            "[1436 rows x 11 columns]\n",
            "\n",
            "Data statistics\n",
            "         Unnamed: 0         Price  ...           CC      Weight\n",
            "count  1436.000000   1436.000000  ...  1436.000000  1436.00000\n",
            "mean    717.500000  10730.824513  ...  1566.827994  1072.45961\n",
            "std     414.681806   3626.964585  ...   187.182436    52.64112\n",
            "min       0.000000   4350.000000  ...  1300.000000  1000.00000\n",
            "25%     358.750000   8450.000000  ...  1400.000000  1040.00000\n",
            "50%     717.500000   9900.000000  ...  1600.000000  1070.00000\n",
            "75%    1076.250000  11950.000000  ...  1600.000000  1085.00000\n",
            "max    1435.000000  32500.000000  ...  2000.000000  1615.00000\n",
            "\n",
            "[8 rows x 7 columns]\n"
          ]
        }
      ],
      "source": [
        "import numpy as np \n",
        "import pandas as pd\n",
        "from sklearn.impute import SimpleImputer \n",
        "from sklearn.preprocessing import MinMaxScaler,StandardScaler\n",
        "\n",
        "\n",
        "datasets = pd.read_csv('Exercise-CarData.csv') \n",
        "print(\"\\nData :\\n\",datasets)\n",
        "print(\"\\nData statistics\\n\",datasets.describe())\n"
      ]
    },
    {
      "cell_type": "code",
      "source": [
        "X = datasets.iloc[:,:-1]\n",
        "Y = datasets.iloc[:,-1]\n",
        "\n",
        "print(X)\n",
        "print(Y)\n"
      ],
      "metadata": {
        "colab": {
          "base_uri": "https://localhost:8080/"
        },
        "id": "m1YO-iR9Qy_R",
        "outputId": "4055a17d-c0ce-4cf1-ae05-7d3a3952bb31"
      },
      "execution_count": 3,
      "outputs": [
        {
          "output_type": "stream",
          "name": "stdout",
          "text": [
            "      Unnamed: 0  Price   Age     KM  ... MetColor Automatic    CC  Doors\n",
            "0              0  13500  23.0  46986  ...      1.0         0  2000  three\n",
            "1              1  13750  23.0  72937  ...      1.0         0  2000      3\n",
            "2              2  13950  24.0  41711  ...      NaN         0  2000      3\n",
            "3              3  14950  26.0  48000  ...      0.0         0  2000      3\n",
            "4              4  13750  30.0  38500  ...      0.0         0  2000      3\n",
            "...          ...    ...   ...    ...  ...      ...       ...   ...    ...\n",
            "1431        1431   7500   NaN  20544  ...      1.0         0  1300      3\n",
            "1432        1432  10845  72.0     ??  ...      0.0         0  1300      3\n",
            "1433        1433   8500   NaN  17016  ...      0.0         0  1300      3\n",
            "1434        1434   7250  70.0     ??  ...      1.0         0  1300      3\n",
            "1435        1435   6950  76.0      1  ...      0.0         0  1600      5\n",
            "\n",
            "[1436 rows x 10 columns]\n",
            "0       1165\n",
            "1       1165\n",
            "2       1165\n",
            "3       1165\n",
            "4       1170\n",
            "        ... \n",
            "1431    1025\n",
            "1432    1015\n",
            "1433    1015\n",
            "1434    1015\n",
            "1435    1114\n",
            "Name: Weight, Length: 1436, dtype: int64\n"
          ]
        }
      ]
    },
    {
      "cell_type": "code",
      "source": [
        "datasets.dropna(axis=0,how=\"all\",inplace=True)\n",
        "\n",
        "updated_data = datasets\n",
        "updated_data['Age']=updated_data['Age'].fillna(updated_data['Age'].mean())\n",
        "\n",
        "updated_data['MetColor']=updated_data['MetColor'].fillna(\"No Color\")\n",
        "updated_data.info()"
      ],
      "metadata": {
        "colab": {
          "base_uri": "https://localhost:8080/"
        },
        "id": "uRlq72OmQ5Pl",
        "outputId": "2527aed5-23ac-4fac-ece7-50db7624d16c"
      },
      "execution_count": 4,
      "outputs": [
        {
          "output_type": "stream",
          "name": "stdout",
          "text": [
            "<class 'pandas.core.frame.DataFrame'>\n",
            "Int64Index: 1436 entries, 0 to 1435\n",
            "Data columns (total 11 columns):\n",
            " #   Column      Non-Null Count  Dtype  \n",
            "---  ------      --------------  -----  \n",
            " 0   Unnamed: 0  1436 non-null   int64  \n",
            " 1   Price       1436 non-null   int64  \n",
            " 2   Age         1436 non-null   float64\n",
            " 3   KM          1436 non-null   object \n",
            " 4   FuelType    1336 non-null   object \n",
            " 5   HP          1436 non-null   object \n",
            " 6   MetColor    1436 non-null   object \n",
            " 7   Automatic   1436 non-null   int64  \n",
            " 8   CC          1436 non-null   int64  \n",
            " 9   Doors       1436 non-null   object \n",
            " 10  Weight      1436 non-null   int64  \n",
            "dtypes: float64(1), int64(5), object(5)\n",
            "memory usage: 134.6+ KB\n"
          ]
        }
      ]
    },
    {
      "cell_type": "code",
      "source": [
        "new_X = datasets.iloc[:, :-1].values  \n",
        "new_Y = datasets.iloc[:, -1].values \n",
        "updated_data['Age'].fillna(updated_data['Age'].mean())\n",
        "imputer = SimpleImputer(missing_values = np.nan,strategy = \"most_frequent\")\n",
        "imputer = imputer.fit(new_X[:, 1:11]) \n",
        "new_X[:, 1:11] = imputer.transform(new_X[:, 1:11]) \n",
        "print(\"\\n\\nNew Input with most frequent value for NaN : \\n\\n\", new_X)"
      ],
      "metadata": {
        "colab": {
          "base_uri": "https://localhost:8080/"
        },
        "id": "1_Smtph0RCaz",
        "outputId": "1d20e218-9a51-4a9b-ee3c-1c5e6ce3ca20"
      },
      "execution_count": 6,
      "outputs": [
        {
          "output_type": "stream",
          "name": "stdout",
          "text": [
            "\n",
            "\n",
            "New Input with most frequent value for NaN : \n",
            "\n",
            " [[0 13500 23.0 ... 0 2000 'three']\n",
            " [1 13750 23.0 ... 0 2000 '3']\n",
            " [2 13950 24.0 ... 0 2000 '3']\n",
            " ...\n",
            " [1433 8500 55.67215568862275 ... 0 1300 '3']\n",
            " [1434 7250 70.0 ... 0 1300 '3']\n",
            " [1435 6950 76.0 ... 0 1600 '5']]\n"
          ]
        }
      ]
    }
  ]
}