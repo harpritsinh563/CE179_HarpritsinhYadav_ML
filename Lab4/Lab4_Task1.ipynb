{
  "cells": [
    {
      "cell_type": "code",
      "execution_count": 3,
      "metadata": {
        "id": "ai0tHkzIfy3n"
      },
      "outputs": [],
      "source": [
        "import numpy as np\n",
        "import torch"
      ]
    },
    {
      "cell_type": "code",
      "execution_count": 4,
      "metadata": {
        "id": "TcR30iVrf0t9"
      },
      "outputs": [],
      "source": [
        "inputs = np.array([[73, 67, 43],\n",
        "                   [91, 88, 64],\n",
        "                   [87, 134, 58],\n",
        "                   [102, 43, 37],\n",
        "                   [69, 96, 70]], dtype='float32')"
      ]
    },
    {
      "cell_type": "code",
      "execution_count": 5,
      "metadata": {
        "id": "ZhXlP2bPf2t1"
      },
      "outputs": [],
      "source": [
        "targets = np.array([[56],\n",
        "                    [81],\n",
        "                    [119],\n",
        "                    [22],\n",
        "                    [103]], dtype='float32')"
      ]
    },
    {
      "cell_type": "code",
      "execution_count": 6,
      "metadata": {
        "id": "tRme2lcDf54s"
      },
      "outputs": [],
      "source": [
        "inputs = torch.from_numpy(inputs)\n",
        "targets = torch.from_numpy(targets)"
      ]
    },
    {
      "cell_type": "code",
      "execution_count": 7,
      "metadata": {
        "id": "qD41PV15f8XH"
      },
      "outputs": [],
      "source": [
        "weight = torch.randn(2, 3, requires_grad=True)\n",
        "bias = torch.randn(2, requires_grad=True)"
      ]
    },
    {
      "cell_type": "code",
      "execution_count": 8,
      "metadata": {
        "id": "GnU_sav6f-ps"
      },
      "outputs": [],
      "source": [
        "torch.matmul(inputs,weight.t()) + bias\n",
        "\n",
        "def model(inputs):\n",
        "    return inputs @ weight.t() + bias"
      ]
    },
    {
      "cell_type": "code",
      "execution_count": 9,
      "metadata": {
        "colab": {
          "base_uri": "https://localhost:8080/"
        },
        "id": "GSCJSbVlgAj0",
        "outputId": "0db0d741-5c6f-4859-895d-35793cd8f228"
      },
      "outputs": [
        {
          "name": "stdout",
          "output_type": "stream",
          "text": [
            "tensor([[ -60.1510,   90.5661],\n",
            "        [ -67.9705,  110.9919],\n",
            "        [-123.7538,  128.0062],\n",
            "        [ -54.5909,  113.9151],\n",
            "        [ -59.2459,   88.5078]], grad_fn=<AddBackward0>)\n"
          ]
        }
      ],
      "source": [
        "pred = model(inputs)\n",
        "print(pred)"
      ]
    },
    {
      "cell_type": "markdown",
      "metadata": {
        "id": "C7x8f-Ekgp6a"
      },
      "source": [
        "**LOSS FUNCTION**"
      ]
    },
    {
      "cell_type": "code",
      "execution_count": 10,
      "metadata": {
        "colab": {
          "base_uri": "https://localhost:8080/"
        },
        "id": "IgTQujMxgtVS",
        "outputId": "74004203-666f-4e51-fe25-34ddb7eb3977"
      },
      "outputs": [
        {
          "data": {
            "text/plain": [
              "tensor(13763.6406, grad_fn=<DivBackward0>)"
            ]
          },
          "execution_count": 10,
          "metadata": {},
          "output_type": "execute_result"
        }
      ],
      "source": [
        "df0 = pred - targets\n",
        "torch.sum(df0 * df0) / df0.numel()"
      ]
    },
    {
      "cell_type": "code",
      "execution_count": 11,
      "metadata": {
        "id": "LH0FHp0UhAQ-"
      },
      "outputs": [],
      "source": [
        "def mse(t1, t2):\n",
        "    diff = t1 - t2\n",
        "    return torch.sum(diff * diff) / diff.numel()"
      ]
    },
    {
      "cell_type": "code",
      "execution_count": 12,
      "metadata": {
        "colab": {
          "base_uri": "https://localhost:8080/"
        },
        "id": "-LmBIsUphFh-",
        "outputId": "1ed4db57-0d17-4226-c121-d8d6e7765eb5"
      },
      "outputs": [
        {
          "name": "stdout",
          "output_type": "stream",
          "text": [
            "tensor(13763.6406, grad_fn=<DivBackward0>)\n"
          ]
        }
      ],
      "source": [
        "loss = mse(pred, targets)\n",
        "print(loss)"
      ]
    },
    {
      "cell_type": "markdown",
      "metadata": {
        "id": "d9OcPoZrhVwi"
      },
      "source": [
        "**Computing Gradients**"
      ]
    },
    {
      "cell_type": "code",
      "execution_count": 13,
      "metadata": {
        "colab": {
          "base_uri": "https://localhost:8080/"
        },
        "id": "g7EWwKuDhawN",
        "outputId": "aae61537-3297-4141-ee96-0cfdafa4f680"
      },
      "outputs": [
        {
          "name": "stdout",
          "output_type": "stream",
          "text": [
            "tensor([[-12432.4307, -14457.9082,  -8559.8789],\n",
            "        [  2882.3025,   1744.6296,   1262.9183]])\n",
            "tensor([-149.3424,   30.1974])\n"
          ]
        }
      ],
      "source": [
        "loss.backward()\n",
        "print(weight.grad)\n",
        "print(bias.grad)"
      ]
    },
    {
      "cell_type": "markdown",
      "metadata": {
        "id": "GTwL5enFiESl"
      },
      "source": [
        "**Train model using gradient descent**"
      ]
    },
    {
      "cell_type": "code",
      "execution_count": 14,
      "metadata": {
        "id": "UFedDW-9iIU3"
      },
      "outputs": [],
      "source": [
        "with torch.no_grad():\n",
        "    weight -= weight.grad * 1e-5\n",
        "    bias -= bias.grad * 1e-5\n",
        "    weight.grad.zero_()\n",
        "    bias.grad.zero_()"
      ]
    },
    {
      "cell_type": "code",
      "execution_count": 15,
      "metadata": {
        "colab": {
          "base_uri": "https://localhost:8080/"
        },
        "id": "gOoGIeywiOfl",
        "outputId": "91ec751f-5802-4d19-c1e7-8d9db79447b4"
      },
      "outputs": [
        {
          "name": "stdout",
          "output_type": "stream",
          "text": [
            "tensor(9666.8301, grad_fn=<DivBackward0>)\n"
          ]
        }
      ],
      "source": [
        "prediction = model(inputs)\n",
        "loss = mse(prediction, targets)\n",
        "print(loss)"
      ]
    },
    {
      "cell_type": "code",
      "execution_count": 16,
      "metadata": {
        "id": "LdBgu7driSt1"
      },
      "outputs": [],
      "source": [
        "for i in range(200):\n",
        "    prediction = model(inputs)\n",
        "    loss = mse(prediction, targets)\n",
        "    loss.backward()\n",
        "    with torch.no_grad():\n",
        "        weight -= weight.grad * 1e-5\n",
        "        bias -= bias.grad * 1e-5\n",
        "        weight.grad.zero_()\n",
        "        bias.grad.zero_()"
      ]
    },
    {
      "cell_type": "code",
      "execution_count": 17,
      "metadata": {
        "colab": {
          "base_uri": "https://localhost:8080/"
        },
        "id": "Xe6f6c-SiUXE",
        "outputId": "0c352935-ce31-4896-c4ee-4dbb92609854"
      },
      "outputs": [
        {
          "name": "stdout",
          "output_type": "stream",
          "text": [
            "tensor(170.1423, grad_fn=<DivBackward0>)\n",
            "tensor([[ 58.9700,  61.1459],\n",
            "        [ 90.6384,  78.3749],\n",
            "        [ 96.6153, 121.0083],\n",
            "        [ 32.3761,  43.6219],\n",
            "        [109.9815,  82.0880]], grad_fn=<AddBackward0>)\n",
            "tensor([[ 56.],\n",
            "        [ 81.],\n",
            "        [119.],\n",
            "        [ 22.],\n",
            "        [103.]])\n"
          ]
        }
      ],
      "source": [
        "pred = model(inputs)\n",
        "loss = mse(pred, targets)\n",
        "print(loss)\n",
        "print(pred)\n",
        "print(targets)\n",
        "\n"
      ]
    }
  ],
  "metadata": {
    "colab": {
      "name": "Lab4_Task1.ipynb",
      "provenance": []
    },
    "kernelspec": {
      "display_name": "Python 3",
      "name": "python3"
    },
    "language_info": {
      "codemirror_mode": {
        "name": "ipython",
        "version": 3
      },
      "file_extension": ".py",
      "mimetype": "text/x-python",
      "name": "python",
      "nbconvert_exporter": "python",
      "pygments_lexer": "ipython3",
      "version": "3.8.0"
    }
  },
  "nbformat": 4,
  "nbformat_minor": 0
}
