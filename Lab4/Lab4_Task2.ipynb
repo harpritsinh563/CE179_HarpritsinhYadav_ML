{
  "cells": [
    {
      "cell_type": "markdown",
      "metadata": {
        "id": "JFfkYN6cjVAV"
      },
      "source": [
        "**Py-Torch Library functions for Linear Regression**"
      ]
    },
    {
      "cell_type": "code",
      "execution_count": 9,
      "metadata": {
        "id": "8a32kbd1jZ2L"
      },
      "outputs": [],
      "source": [
        "import numpy as np\n",
        "import torch\n",
        "import torch.nn as nn\n",
        "\n",
        "input = np.array([[75, 72, 40], \n",
        "                    [100, 89, 68], \n",
        "                    [85, 120, 62], \n",
        "                    [95, 55, 39], \n",
        "                    [65, 90, 75], \n",
        "                    [83, 72, 56], \n",
        "                    [81, 88, 75], \n",
        "                    [78, 114, 99], \n",
        "                    [98, 51, 57], \n",
        "                    [69, 96, 71], \n",
        "                    [79, 76, 54], \n",
        "                    [72, 77, 84], \n",
        "                    [67, 125, 67], \n",
        "                    [100, 53, 46], \n",
        "                    [70, 107, 60]], dtype='float32')\n",
        "\n",
        "targets = np.array([[54, 75], \n",
        "                    [79, 121], \n",
        "                    [105, 130], \n",
        "                    [33, 39], \n",
        "                    [101, 110],\n",
        "                    [45, 79], \n",
        "                    [85, 92], \n",
        "                    [110, 122], \n",
        "                    [36, 35], \n",
        "                    [95, 114], \n",
        "                    [57, 69], \n",
        "                    [82, 100], \n",
        "                    [118, 134], \n",
        "                    [20, 38], \n",
        "                    [102, 120]], dtype='float32')"
      ]
    },
    {
      "cell_type": "code",
      "execution_count": 10,
      "metadata": {
        "id": "mSWhlNMQkNQ8"
      },
      "outputs": [],
      "source": [
        "input = torch.from_numpy(input)\n",
        "targets = torch.from_numpy(targets)"
      ]
    },
    {
      "cell_type": "code",
      "execution_count": 11,
      "metadata": {
        "colab": {
          "base_uri": "https://localhost:8080/"
        },
        "id": "B8J4Ha70kRb0",
        "outputId": "e7d6ac87-cce4-4ea0-8ae4-55a3daceb05e"
      },
      "outputs": [
        {
          "data": {
            "text/plain": [
              "(tensor([[ 73.,  67.,  43.],\n",
              "         [ 91.,  88.,  64.],\n",
              "         [ 87., 134.,  58.]]), tensor([[ 56.,  70.],\n",
              "         [ 81., 101.],\n",
              "         [119., 133.]]))"
            ]
          },
          "execution_count": 11,
          "metadata": {},
          "output_type": "execute_result"
        }
      ],
      "source": [
        "from torch.utils.data import TensorDataset\n",
        "\n",
        "training_ds = TensorDataset(input, targets)\n",
        "training_ds[0:3]"
      ]
    },
    {
      "cell_type": "code",
      "execution_count": 12,
      "metadata": {
        "colab": {
          "base_uri": "https://localhost:8080/"
        },
        "id": "Pb94VP4XkXUt",
        "outputId": "34133b7d-7c24-433c-b2b3-ccfe95307d77"
      },
      "outputs": [
        {
          "name": "stdout",
          "output_type": "stream",
          "text": [
            "tensor([[ 69.,  96.,  70.],\n",
            "        [102.,  43.,  37.],\n",
            "        [ 73.,  67.,  43.],\n",
            "        [ 87., 134.,  58.],\n",
            "        [ 91.,  88.,  64.]])\n",
            "tensor([[103., 119.],\n",
            "        [ 22.,  37.],\n",
            "        [ 56.,  70.],\n",
            "        [119., 133.],\n",
            "        [ 81., 101.]])\n"
          ]
        }
      ],
      "source": [
        "from torch.utils.data import DataLoader\n",
        "\n",
        "batch_size = 5\n",
        "train_dl = DataLoader(training_ds, batch_size, shuffle=True)\n",
        "for xb, yb in train_dl:\n",
        "    print(xb)\n",
        "    print(yb)\n",
        "    break"
      ]
    },
    {
      "cell_type": "code",
      "execution_count": 13,
      "metadata": {
        "colab": {
          "base_uri": "https://localhost:8080/"
        },
        "id": "OhIO4g2VkeKt",
        "outputId": "934d240b-2a9a-48f7-b7be-14379c90f2d9"
      },
      "outputs": [
        {
          "name": "stdout",
          "output_type": "stream",
          "text": [
            "Parameter containing:\n",
            "tensor([[-0.5624, -0.4961, -0.4894],\n",
            "        [ 0.4171, -0.3244,  0.3972]], requires_grad=True)\n",
            "Parameter containing:\n",
            "tensor([ 0.4616, -0.3041], requires_grad=True)\n"
          ]
        }
      ],
      "source": [
        "model = nn.Linear(3, 2)\n",
        "print(model.weight)\n",
        "print(model.bias)"
      ]
    },
    {
      "cell_type": "code",
      "execution_count": 15,
      "metadata": {
        "colab": {
          "base_uri": "https://localhost:8080/"
        },
        "id": "j9sE065KkzOV",
        "outputId": "263d4165-aecb-4ae8-dfb5-d45fbe177948"
      },
      "outputs": [
        {
          "name": "stdout",
          "output_type": "stream",
          "text": [
            "tensor([[ -94.8775,   25.4859],\n",
            "        [-125.6966,   34.5213],\n",
            "        [-143.3317,   15.5463],\n",
            "        [ -96.3437,   42.9847],\n",
            "        [-120.2294,   25.1329]], grad_fn=<AddmmBackward0>)\n"
          ]
        }
      ],
      "source": [
        "list(model.parameters())\n",
        "pred = model(input)\n",
        "print(pred)"
      ]
    },
    {
      "cell_type": "markdown",
      "metadata": {
        "id": "ubzxUcHxk700"
      },
      "source": [
        "**Loss Function**"
      ]
    },
    {
      "cell_type": "code",
      "execution_count": 16,
      "metadata": {
        "colab": {
          "base_uri": "https://localhost:8080/"
        },
        "id": "KtmSpKeBk_Yb",
        "outputId": "f38f03bc-2496-4b79-e179-d971c464a537"
      },
      "outputs": [
        {
          "name": "stdout",
          "output_type": "stream",
          "text": [
            "tensor(22718.5098, grad_fn=<MseLossBackward0>)\n"
          ]
        }
      ],
      "source": [
        "import torch.nn.functional as F\n",
        "\n",
        "loss_fn = F.mse_loss\n",
        "\n",
        "loss = loss_fn(model(input), targets)\n",
        "print(loss)"
      ]
    },
    {
      "cell_type": "markdown",
      "metadata": {
        "id": "imz6axqqlGSS"
      },
      "source": [
        "**Optimizer**"
      ]
    },
    {
      "cell_type": "code",
      "execution_count": 17,
      "metadata": {
        "id": "KR5-XLlFlI6d"
      },
      "outputs": [],
      "source": [
        "opt = torch.optim.SGD(model.parameters(), lr=1e-5)"
      ]
    },
    {
      "cell_type": "markdown",
      "metadata": {
        "id": "DTlnXhB4lr10"
      },
      "source": [
        "**For Multiple Epochs**"
      ]
    },
    {
      "cell_type": "code",
      "execution_count": 18,
      "metadata": {
        "id": "Xt9r4YGelvzJ"
      },
      "outputs": [],
      "source": [
        "def fit(num_epochs, model, loss_fn, opt, train_dl):\n",
        "    \n",
        "    for epoch in range(num_epochs):\n",
        "        for xb,yb in train_dl:\n",
        "            pred = model(xb)\n",
        "            loss = loss_fn(pred, yb)\n",
        "            loss.backward()\n",
        "            opt.step()\n",
        "            opt.zero_grad()\n",
        "        if (epoch+1) % 10 == 0:\n",
        "            print('Epoch [{}/{}], Loss: {:.4f}'.format(epoch+1, num_epochs, loss.item()))"
      ]
    },
    {
      "cell_type": "code",
      "execution_count": 20,
      "metadata": {
        "colab": {
          "base_uri": "https://localhost:8080/"
        },
        "id": "iwgMlw6Ilymz",
        "outputId": "a8ed089d-c0af-4b74-90bf-6c1265c88ec2"
      },
      "outputs": [
        {
          "name": "stdout",
          "output_type": "stream",
          "text": [
            "Epoch [10/100], Loss: 207.3150\n",
            "Epoch [20/100], Loss: 183.9913\n",
            "Epoch [30/100], Loss: 163.4258\n",
            "Epoch [40/100], Loss: 145.2899\n",
            "Epoch [50/100], Loss: 129.2942\n",
            "Epoch [60/100], Loss: 115.1836\n",
            "Epoch [70/100], Loss: 102.7337\n",
            "Epoch [80/100], Loss: 91.7466\n",
            "Epoch [90/100], Loss: 82.0483\n",
            "Epoch [100/100], Loss: 73.4854\n"
          ]
        }
      ],
      "source": [
        "fit(100, model, loss_fn, opt, train_dl)"
      ]
    },
    {
      "cell_type": "code",
      "execution_count": 21,
      "metadata": {
        "colab": {
          "base_uri": "https://localhost:8080/"
        },
        "id": "3kLCuV8Kl4LE",
        "outputId": "537758b4-22b7-4c52-b42b-f0801ff98b73"
      },
      "outputs": [
        {
          "name": "stdout",
          "output_type": "stream",
          "text": [
            "tensor([[ 59.4925,  73.3059],\n",
            "        [ 80.4935, 101.6769],\n",
            "        [118.8497, 125.8500],\n",
            "        [ 33.8213,  54.6277],\n",
            "        [ 91.5977, 110.5511]], grad_fn=<AddmmBackward0>)\n",
            "tensor([[ 56.,  70.],\n",
            "        [ 81., 101.],\n",
            "        [119., 133.],\n",
            "        [ 22.,  37.],\n",
            "        [103., 119.]])\n"
          ]
        }
      ],
      "source": [
        "pred = model(input)\n",
        "print(pred)\n",
        "print(targets)"
      ]
    },
    {
      "cell_type": "code",
      "execution_count": 22,
      "metadata": {
        "colab": {
          "base_uri": "https://localhost:8080/"
        },
        "id": "GcRUsmg7l-K1",
        "outputId": "35914d64-0718-4c6c-8517-5e86e4fa1913"
      },
      "outputs": [
        {
          "data": {
            "text/plain": [
              "tensor([[56.0709, 71.5749]], grad_fn=<AddmmBackward0>)"
            ]
          },
          "execution_count": 22,
          "metadata": {},
          "output_type": "execute_result"
        }
      ],
      "source": [
        "model(torch.tensor([[75, 63, 44.]]))"
      ]
    }
  ],
  "metadata": {
    "colab": {
      "name": "Lab4_Task2.ipynb",
      "provenance": []
    },
    "kernelspec": {
      "display_name": "Python 3",
      "name": "python3"
    },
    "language_info": {
      "name": "python"
    }
  },
  "nbformat": 4,
  "nbformat_minor": 0
}
