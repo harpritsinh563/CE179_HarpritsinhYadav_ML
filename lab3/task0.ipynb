{
  "nbformat": 4,
  "nbformat_minor": 0,
  "metadata": {
    "colab": {
      "name": "Untitled3.ipynb",
      "provenance": []
    },
    "kernelspec": {
      "name": "python3",
      "display_name": "Python 3"
    },
    "language_info": {
      "name": "python"
    }
  },
  "cells": [
    {
      "cell_type": "code",
      "execution_count": 1,
      "metadata": {
        "id": "HqQeufPaSey2"
      },
      "outputs": [],
      "source": [
        "from sklearn import preprocessing\n",
        "from sklearn.naive_bayes import GaussianNB,MultinomialNB\n",
        "\n",
        "weather = [\n",
        "    'Sunny', 'Sunny', 'Overcast', 'Rainy', 'Rainy','Rainy', 'Overcast',\n",
        "    'Sunny', 'Sunny', 'Rainy', 'Sunny', 'Overcast', 'Overcast', 'Rainy'\n",
        "    ]\n",
        "\n",
        "temp = [\n",
        "    'Hot','Hot','Hot','Mild','Cool','Cool','Cool','Mild',\n",
        "    'Cool','Mild','Mild','Mild','Hot','Mild'\n",
        "    ]\n",
        "\n",
        "play=[\n",
        "    'No','No','Yes','Yes','Yes','No','Yes','No','Yes',\n",
        "    'Yes','Yes','Yes','Yes','No'\n",
        "     ]\n",
        "     "
      ]
    },
    {
      "cell_type": "code",
      "source": [
        "lbl_enc = preprocessing.LabelEncoder()\n",
        "weather_encoded=lbl_enc.fit_transform(weather)\n",
        "print(\"Weather:\\t\" ,weather_encoded)"
      ],
      "metadata": {
        "colab": {
          "base_uri": "https://localhost:8080/"
        },
        "id": "R3JedabOTxZ2",
        "outputId": "1ccaf8ea-eb6e-4ae4-a746-27aad642b768"
      },
      "execution_count": 2,
      "outputs": [
        {
          "output_type": "stream",
          "name": "stdout",
          "text": [
            "Weather:\t [2 2 0 1 1 1 0 2 2 1 2 0 0 1]\n"
          ]
        }
      ]
    },
    {
      "cell_type": "code",
      "source": [
        "encd=lbl_enc.fit_transform(temp)\n",
        "label=lbl_enc.fit_transform(play)\n",
        "print(\"Temp:\\t\",encd)\n",
        "print(\"Play:\\t\",label)\n",
        "\"\"\"\n",
        "0 Cool\n",
        "1 hot\n",
        "2 mild\n",
        "\"\"\"\n",
        "\"\"\"\n",
        "0 no\n",
        "1 yes\n",
        "\"\"\""
      ],
      "metadata": {
        "colab": {
          "base_uri": "https://localhost:8080/",
          "height": 70
        },
        "id": "jspWTkrCT8jv",
        "outputId": "aefde0e0-6310-40d4-8e5e-5bf38d3a2bb0"
      },
      "execution_count": 4,
      "outputs": [
        {
          "output_type": "stream",
          "name": "stdout",
          "text": [
            "Temp:\t [1 1 1 2 0 0 0 2 0 2 2 2 1 2]\n",
            "Play:\t [0 0 1 1 1 0 1 0 1 1 1 1 1 0]\n"
          ]
        },
        {
          "output_type": "execute_result",
          "data": {
            "application/vnd.google.colaboratory.intrinsic+json": {
              "type": "string"
            },
            "text/plain": [
              "'\\n0 no\\n1 yes\\n'"
            ]
          },
          "metadata": {},
          "execution_count": 4
        }
      ]
    },
    {
      "cell_type": "code",
      "source": [
        "features = tuple(zip(encd,weather_encoded))\n",
        "print(\"Features:\\n\",features)"
      ],
      "metadata": {
        "colab": {
          "base_uri": "https://localhost:8080/"
        },
        "id": "s13qEhr1UVAS",
        "outputId": "5ab47963-b9aa-4046-e570-a68a98ba08c3"
      },
      "execution_count": 6,
      "outputs": [
        {
          "output_type": "stream",
          "name": "stdout",
          "text": [
            "Features:\n",
            " ((1, 2), (1, 2), (1, 0), (2, 1), (0, 1), (0, 1), (0, 0), (2, 2), (0, 2), (2, 1), (2, 2), (2, 0), (1, 0), (2, 1))\n"
          ]
        }
      ]
    },
    {
      "cell_type": "code",
      "source": [
        "model=MultinomialNB()\n",
        "model.fit(features,label)"
      ],
      "metadata": {
        "colab": {
          "base_uri": "https://localhost:8080/"
        },
        "id": "X-YRnx4YUi1J",
        "outputId": "be4e3cbe-c35c-4e09-f127-6f118f4c9eec"
      },
      "execution_count": 9,
      "outputs": [
        {
          "output_type": "execute_result",
          "data": {
            "text/plain": [
              "MultinomialNB()"
            ]
          },
          "metadata": {},
          "execution_count": 9
        }
      ]
    },
    {
      "cell_type": "code",
      "source": [
        "prd = model.predict([[1,0]]) \n",
        "print(\"Predicted Value:\", prd)"
      ],
      "metadata": {
        "colab": {
          "base_uri": "https://localhost:8080/"
        },
        "id": "u1sPzA10Uqnf",
        "outputId": "b8b6b2aa-b2a5-4249-b250-d9f94fd2dc71"
      },
      "execution_count": 10,
      "outputs": [
        {
          "output_type": "stream",
          "name": "stdout",
          "text": [
            "Predicted Value: [1]\n"
          ]
        }
      ]
    },
    {
      "cell_type": "code",
      "source": [
        "prd = model.predict([[2,1]])\n",
        "print(\"Predicted Value:\", prd)"
      ],
      "metadata": {
        "colab": {
          "base_uri": "https://localhost:8080/"
        },
        "id": "IJlofdXyUxUP",
        "outputId": "2295f49d-3b6e-431a-c1d8-b565d2b0e763"
      },
      "execution_count": 11,
      "outputs": [
        {
          "output_type": "stream",
          "name": "stdout",
          "text": [
            "Predicted Value: [1]\n"
          ]
        }
      ]
    }
  ]
}