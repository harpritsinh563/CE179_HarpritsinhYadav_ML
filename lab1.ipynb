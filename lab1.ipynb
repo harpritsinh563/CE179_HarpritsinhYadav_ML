{
 "cells": [
  {
   "cell_type": "code",
   "execution_count": 3,
   "id": "f5a1097c",
   "metadata": {},
   "outputs": [
    {
     "name": "stdout",
     "output_type": "stream",
     "text": [
      "[[ 1  2  3  4  5]\n",
      " [ 5  4  3  2  1]\n",
      " [ 6  7  8  9 10]\n",
      " [10  9  8  7  6]\n",
      " [ 2  7  8  4  5]]\n"
     ]
    }
   ],
   "source": [
    "import numpy as np\n",
    "import pandas as pd\n",
    "\n",
    "#1,2] Create a numpy array of size 4x5 and randomly initialise the arrray\n",
    "arr = np.array([ (1,2,3,4,5),(5,4,3,2,1),(6,7,8,9,10),(10,9,8,7,6),(2,7,8,4,5)])\n",
    "print(arr)"
   ]
  },
  {
   "cell_type": "code",
   "execution_count": 8,
   "id": "ebe17276",
   "metadata": {},
   "outputs": [
    {
     "name": "stdout",
     "output_type": "stream",
     "text": [
      "[[ 1  2  3  4]\n",
      " [ 4  5  6  7]\n",
      " [ 7  8  9 10]\n",
      " [10 11 12 13]]\n",
      "[[ 1  4  7 10]\n",
      " [ 2  5  8 11]\n",
      " [ 3  6  9 12]\n",
      " [ 4  7 10 13]]\n",
      "determinant of arr is 1.4199496293978148e-29\n"
     ]
    }
   ],
   "source": [
    "#3] Get the Transpose of the Matrix that you created. Create a square matrix and find its determinant.\n",
    "arr2 = np.array([(1,2,3,4),(4,5,6,7),(7,8,9,10),(10,11,12,13)])\n",
    "print(arr2)\n",
    "# arr.T = Transpose of a matrix\n",
    "print(arr2.T)\n",
    "print(\"determinant of arr is \"+ str(np.linalg.det(arr2)))"
   ]
  },
  {
   "cell_type": "code",
   "execution_count": 9,
   "id": "ff8ef43c",
   "metadata": {},
   "outputs": [
    {
     "name": "stdout",
     "output_type": "stream",
     "text": [
      "[[11 12 13 14]\n",
      " [21 22 23 24]\n",
      " [31 32 33 34]\n",
      " [41 42 43 44]\n",
      " [51 52 53 54]]\n"
     ]
    }
   ],
   "source": [
    "#4] Create another matrix of size 5 x 4 and randomly initialize it.\n",
    "arr3 = np.array( [[11,12,13,14],[21,22,23,24],[31,32,33,34],[41,42,43,44],[51,52,53,54]])\n",
    "print(arr3)"
   ]
  },
  {
   "cell_type": "code",
   "execution_count": 10,
   "id": "e33243f4",
   "metadata": {},
   "outputs": [
    {
     "name": "stdout",
     "output_type": "stream",
     "text": [
      "[[154 152 150 148 146]\n",
      " [274 272 270 268 266]\n",
      " [394 392 390 388 386]\n",
      " [514 512 510 508 506]\n",
      " [634 632 630 628 626]]\n"
     ]
    }
   ],
   "source": [
    "#5] Perform Matrix multiplication.\n",
    "arr4 = np.array([ [1,2,3,4,5],[5,4,3,2,1],[1,2,3,4,5],[5,4,3,2,1]])\n",
    "print(np.matmul(arr3,arr4))"
   ]
  },
  {
   "cell_type": "code",
   "execution_count": 11,
   "id": "eeb22474",
   "metadata": {},
   "outputs": [
    {
     "name": "stdout",
     "output_type": "stream",
     "text": [
      "[[ 1  4]\n",
      " [ 9 16]]\n"
     ]
    }
   ],
   "source": [
    "#6) Perform element wise matrix multiplication.\n",
    "arr5 = np.array([ [1,2],[3,4]])\n",
    "print(arr5*arr5)"
   ]
  },
  {
   "cell_type": "code",
   "execution_count": 12,
   "id": "4fde3f02",
   "metadata": {},
   "outputs": [
    {
     "name": "stdout",
     "output_type": "stream",
     "text": [
      "Mean : 2.5\n",
      "Median : 2.5\n"
     ]
    }
   ],
   "source": [
    "#7) Find mean, median of the numpy array created.\n",
    "print(\"Mean : \"+str(np.mean(arr5)))\n",
    "print(\"Median : \"+str(np.median(arr5)))"
   ]
  },
  {
   "cell_type": "code",
   "execution_count": 13,
   "id": "473938f8",
   "metadata": {},
   "outputs": [
    {
     "name": "stdout",
     "output_type": "stream",
     "text": [
      "[2 5]\n"
     ]
    }
   ],
   "source": [
    "#8) Obtain each row in the second column of the first array.\n",
    "A = np.array([[1,2,3],[4,5,6]])\n",
    "print(A[:,1])"
   ]
  },
  {
   "cell_type": "code",
   "execution_count": 14,
   "id": "ca6ce7a2",
   "metadata": {},
   "outputs": [
    {
     "name": "stdout",
     "output_type": "stream",
     "text": [
      "Before mean: \n",
      "      Id  SepalLengthCm  SepalWidthCm  PetalLengthCm  PetalWidthCm  \\\n",
      "0      1            5.1           3.5            1.4           0.2   \n",
      "1      2            4.9           3.0            1.4           0.2   \n",
      "2      3            4.7           3.2            1.3           0.2   \n",
      "3      4            4.6           3.1            1.5           0.2   \n",
      "4      5            5.0           3.6            1.4           0.2   \n",
      "..   ...            ...           ...            ...           ...   \n",
      "145  146            6.7           3.0            5.2           2.3   \n",
      "146  147            6.3           2.5            5.0           1.9   \n",
      "147  148            6.5           3.0            5.2           2.0   \n",
      "148  149            6.2           3.4            5.4           2.3   \n",
      "149  150            5.9           3.0            5.1           1.8   \n",
      "\n",
      "            Species  \n",
      "0       Iris-setosa  \n",
      "1       Iris-setosa  \n",
      "2       Iris-setosa  \n",
      "3       Iris-setosa  \n",
      "4       Iris-setosa  \n",
      "..              ...  \n",
      "145  Iris-virginica  \n",
      "146  Iris-virginica  \n",
      "147  Iris-virginica  \n",
      "148  Iris-virginica  \n",
      "149  Iris-virginica  \n",
      "\n",
      "[150 rows x 6 columns]\n",
      "After mean: \n",
      "       Id  PetalLengthCm  PetalWidthCm  SepalLengthCm  SepalWidthCm Species\n",
      "0   -74.5      -2.358667     -0.998667      -0.743333         0.446     NaN\n",
      "1   -73.5      -2.358667     -0.998667      -0.943333        -0.054     NaN\n",
      "2   -72.5      -2.458667     -0.998667      -1.143333         0.146     NaN\n",
      "3   -71.5      -2.258667     -0.998667      -1.243333         0.046     NaN\n",
      "4   -70.5      -2.358667     -0.998667      -0.843333         0.546     NaN\n",
      "..    ...            ...           ...            ...           ...     ...\n",
      "145  70.5       1.441333      1.101333       0.856667        -0.054     NaN\n",
      "146  71.5       1.241333      0.701333       0.456667        -0.554     NaN\n",
      "147  72.5       1.441333      0.801333       0.656667        -0.054     NaN\n",
      "148  73.5       1.641333      1.101333       0.356667         0.346     NaN\n",
      "149  74.5       1.341333      0.601333       0.056667        -0.054     NaN\n",
      "\n",
      "[150 rows x 6 columns]\n"
     ]
    },
    {
     "name": "stderr",
     "output_type": "stream",
     "text": [
      "C:\\Python\\lib\\site-packages\\numpy\\core\\fromnumeric.py:3438: FutureWarning: Dropping of nuisance columns in DataFrame reductions (with 'numeric_only=None') is deprecated; in a future version this will raise TypeError.  Select only valid columns before calling the reduction.\n",
      "  return mean(axis=axis, dtype=dtype, out=out, **kwargs)\n"
     ]
    }
   ],
   "source": [
    "#9) Convert Numeric entries(columns) of Iris.csv to Mean Centered Version\n",
    "data = pd.read_csv(r'C:\\Users\\shree\\Iris.csv')\n",
    "print(\"Before mean: \\n\"+str(data))\n",
    "nparrrayCentered = data - np.mean(data,axis=0)\n",
    "print(\"After mean: \\n\" + str(nparrrayCentered))"
   ]
  },
  {
   "cell_type": "code",
   "execution_count": null,
   "id": "a89d0790",
   "metadata": {},
   "outputs": [],
   "source": [
    "# 10) Study about numpy array attributes and implement it on the first matrix.\n",
    "arr6 = np.array([[1,2],[3,4],[5,6]])   #3x2 matrix\n",
    "print(arr6.ndim)     #represents number of dimensions (axes) of the array\n",
    "print(arr6.shape)    # is a tuple of integers representing the size of the ndarray in each dimension.\n",
    "print(arr6.size)     #  total number of elements in the array\n",
    "print(arr6.dtype)    # the data type of the elements of a NumPy array\n",
    "print(arr6.itemsize) #returns the size (in bytes) of each element of a NumPy array. \n"
   ]
  },
  {
   "cell_type": "markdown",
   "id": "5154e954",
   "metadata": {},
   "source": [
    "# MATPLOTLIB AND NLTK\n"
   ]
  },
  {
   "cell_type": "code",
   "execution_count": 16,
   "id": "8ce03c36",
   "metadata": {},
   "outputs": [],
   "source": [
    "import nltk\n",
    "import matplotlib.pyplot as plt\n",
    "import random\n",
    "import string\n",
    "import re"
   ]
  },
  {
   "cell_type": "code",
   "execution_count": 17,
   "id": "0783144c",
   "metadata": {},
   "outputs": [],
   "source": [
    "from nltk.corpus import names\n",
    "from nltk.corpus import stopwords\n",
    "from nltk.tokenize import TweetTokenizer\n",
    "from nltk.stem import PorterStemmer\n"
   ]
  },
  {
   "cell_type": "code",
   "execution_count": 18,
   "id": "28b5e303",
   "metadata": {},
   "outputs": [
    {
     "name": "stderr",
     "output_type": "stream",
     "text": [
      "[nltk_data] Downloading package names to\n",
      "[nltk_data]     C:\\Users\\shree\\AppData\\Roaming\\nltk_data...\n",
      "[nltk_data]   Unzipping corpora\\names.zip.\n",
      "[nltk_data] Downloading package stopwords to\n",
      "[nltk_data]     C:\\Users\\shree\\AppData\\Roaming\\nltk_data...\n",
      "[nltk_data]   Unzipping corpora\\stopwords.zip.\n"
     ]
    },
    {
     "data": {
      "text/plain": [
       "True"
      ]
     },
     "execution_count": 18,
     "metadata": {},
     "output_type": "execute_result"
    }
   ],
   "source": [
    "nltk.download('names')\n",
    "nltk.download('stopwords')"
   ]
  },
  {
   "cell_type": "code",
   "execution_count": 20,
   "id": "b9df5c04",
   "metadata": {},
   "outputs": [
    {
     "data": {
      "image/png": "[encoded data removed]",
      "text/plain": [
       "<Figure size 216x216 with 1 Axes>"
      ]
     },
     "metadata": {},
     "output_type": "display_data"
    }
   ],
   "source": [
    "fig = plt.figure(figsize=(3,3))\n",
    "labels = 'Label1','Label2','Label3',\n",
    "sizes = [30,35,35]\n",
    "plt.pie(sizes,labels=labels,autopct=('%.2f%%'),shadow=False,startangle=90)\n",
    "plt.axis('equal')\n",
    "plt.show()"
   ]
  },
  {
   "cell_type": "code",
   "execution_count": 21,
   "id": "084b3dc5",
   "metadata": {},
   "outputs": [
    {
     "name": "stdout",
     "output_type": "stream",
     "text": [
      "!\"#$%&'()*+,-./:;<=>?@[\\]^_`{|}~\n"
     ]
    }
   ],
   "source": [
    "print(string.punctuation)"
   ]
  },
  {
   "cell_type": "code",
   "execution_count": 22,
   "id": "1011bc1a",
   "metadata": {},
   "outputs": [
    {
     "name": "stdout",
     "output_type": "stream",
     "text": [
      "Hello,Harprit Here. \n"
     ]
    }
   ],
   "source": [
    "mystr = 'Hello,Harprit Here. 77778888999900000'\n",
    "mystr = re.sub(r'[0-9]','',mystr)  #removes digits from string\n",
    "print(mystr)  "
   ]
  },
  {
   "cell_type": "code",
   "execution_count": 23,
   "id": "f0d98308",
   "metadata": {},
   "outputs": [
    {
     "name": "stdout",
     "output_type": "stream",
     "text": [
      "Hello,Harprit Here. 77778888999900000\n"
     ]
    }
   ],
   "source": [
    "mystr = 'Hello,Harprit Here. @77778888999900000'\n",
    "mystr = re.sub(r'@','',mystr)  #removes digits from string\n",
    "print(mystr)  "
   ]
  },
  {
   "cell_type": "code",
   "execution_count": 24,
   "id": "0b03dae0",
   "metadata": {},
   "outputs": [
    {
     "name": "stdout",
     "output_type": "stream",
     "text": [
      "['A', 'paragraph', 'is', 'a', 'series', 'of', 'related', 'sentences', 'developing', 'a', 'central', 'idea', ',', 'called', 'the', 'topic', '.']\n"
     ]
    }
   ],
   "source": [
    "para = 'A paragraph is a series of related sentences developing a central idea, called the topic. '\n",
    "tokenizer =  TweetTokenizer(preserve_case=True)\n",
    "tokens = tokenizer.tokenize(para)\n",
    "print(tokens)"
   ]
  },
  {
   "cell_type": "code",
   "execution_count": 25,
   "id": "4d698ebd",
   "metadata": {},
   "outputs": [
    {
     "name": "stdout",
     "output_type": "stream",
     "text": [
      "['A', 'paragraph', 'series', 'related', 'sentences', 'developing', 'central', 'idea', 'called', 'topic']\n"
     ]
    }
   ],
   "source": [
    "#stemming\n",
    "stemmer = PorterStemmer()\n",
    "ans = []\n",
    "for word in tokens:\n",
    "    if(word not in stopwords.words('english') and word not in string.punctuation):\n",
    "        ans.append(word)\n",
    "print(ans)"
   ]
  },
  {
   "cell_type": "code",
   "execution_count": null,
   "id": "66dbda8d",
   "metadata": {},
   "outputs": [],
   "source": []
  }
 ],
 "metadata": {
  "kernelspec": {
   "display_name": "Python 3 (ipykernel)",
   "language": "python",
   "name": "python3"
  },
  "language_info": {
   "codemirror_mode": {
    "name": "ipython",
    "version": 3
   },
   "file_extension": ".py",
   "mimetype": "text/x-python",
   "name": "python",
   "nbconvert_exporter": "python",
   "pygments_lexer": "ipython3",
   "version": "3.10.1"
  }
 },
 "nbformat": 4,
 "nbformat_minor": 5
}
