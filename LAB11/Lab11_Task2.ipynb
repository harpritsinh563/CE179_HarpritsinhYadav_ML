{
  "nbformat": 4,
  "nbformat_minor": 0,
  "metadata": {
    "colab": {
      "name": "Lab11_Task2.ipynb",
      "provenance": []
    },
    "kernelspec": {
      "name": "python3",
      "display_name": "Python 3"
    },
    "language_info": {
      "name": "python"
    }
  },
  "cells": [
    {
      "cell_type": "markdown",
      "source": [
        "## **Try SVM Classifier on MNIST Dataset,Compare the performance of linear,Polynomial and RBF Kernels**"
      ],
      "metadata": {
        "id": "m1MLkN-9ZJgD"
      }
    },
    {
      "cell_type": "code",
      "source": [
        "import sys, os\n",
        "import matplotlib.pyplot as plt\n",
        "from sklearn import metrics\n",
        "from sklearn import svm\n",
        "from sklearn.model_selection import train_test_split\n",
        "import numpy as np"
      ],
      "metadata": {
        "id": "6TH0xYrQZXNq"
      },
      "execution_count": 7,
      "outputs": []
    },
    {
      "cell_type": "code",
      "source": [
        "from sklearn.datasets import load_digits\n",
        "digits = load_digits()\n",
        "X_train, X_test, y_train, y_test = train_test_split(digits.data, digits.target, test_size = 0.3, train_size = 0.2 ,random_state = 179)"
      ],
      "metadata": {
        "id": "Q4m3lUIPZd0-"
      },
      "execution_count": 8,
      "outputs": []
    },
    {
      "cell_type": "markdown",
      "source": [
        "## Linear Model"
      ],
      "metadata": {
        "id": "nn7v6qS1ZjB7"
      }
    },
    {
      "cell_type": "code",
      "source": [
        "linear_clf = svm.SVC(kernel='linear')\n",
        "linear_clf.fit(X_train, y_train)\n",
        "y_pred = linear_clf.predict(X_test)"
      ],
      "metadata": {
        "id": "NHD_vP1QZmN_"
      },
      "execution_count": 9,
      "outputs": []
    },
    {
      "cell_type": "code",
      "source": [
        "print(\"Accuracy:\", metrics.accuracy_score(y_true=y_test, y_pred=y_pred))"
      ],
      "metadata": {
        "colab": {
          "base_uri": "https://localhost:8080/"
        },
        "id": "UaOKQMiZZqku",
        "outputId": "690a6969-9596-49e0-99b4-fc746128f240"
      },
      "execution_count": 10,
      "outputs": [
        {
          "output_type": "stream",
          "name": "stdout",
          "text": [
            "Accuracy: 0.9592592592592593\n"
          ]
        }
      ]
    },
    {
      "cell_type": "markdown",
      "source": [
        "# Polynomial Model"
      ],
      "metadata": {
        "id": "x6coGN0MZ7et"
      }
    },
    {
      "cell_type": "code",
      "source": [
        "polynomial_clfr = svm.SVC(kernel='poly')\n",
        "polynomial_clfr.fit(X_train, y_train)\n",
        "y_pred = polynomial_clfr.predict(X_test)\n",
        "print(\"Accuracy:\", metrics.accuracy_score(y_true=y_test, y_pred=y_pred))"
      ],
      "metadata": {
        "colab": {
          "base_uri": "https://localhost:8080/"
        },
        "id": "1lGrR5dLZ-wp",
        "outputId": "8c77cc3e-98f0-47c0-8eaa-81889aeeff55"
      },
      "execution_count": 11,
      "outputs": [
        {
          "output_type": "stream",
          "name": "stdout",
          "text": [
            "Accuracy: 0.9703703703703703\n"
          ]
        }
      ]
    },
    {
      "cell_type": "markdown",
      "source": [
        "## RBF Model"
      ],
      "metadata": {
        "id": "S9YRmhRgaKUv"
      }
    },
    {
      "cell_type": "code",
      "source": [
        "RBF_clfr = svm.SVC(kernel='rbf')\n",
        "RBF_clfr.fit(X_train, y_train)\n",
        "y_pred = RBF_clfr.predict(X_test)"
      ],
      "metadata": {
        "id": "BXlvchoaaNSY"
      },
      "execution_count": 12,
      "outputs": []
    },
    {
      "cell_type": "code",
      "source": [
        "print(\"Accuracy:\", metrics.accuracy_score(y_true=y_test, y_pred=y_pred))"
      ],
      "metadata": {
        "colab": {
          "base_uri": "https://localhost:8080/"
        },
        "id": "_FZ9vUWKaSaq",
        "outputId": "d4ee0e09-cbef-45e3-ac55-8c716459b63a"
      },
      "execution_count": 13,
      "outputs": [
        {
          "output_type": "stream",
          "name": "stdout",
          "text": [
            "Accuracy: 0.9518518518518518\n"
          ]
        }
      ]
    }
  ]
}