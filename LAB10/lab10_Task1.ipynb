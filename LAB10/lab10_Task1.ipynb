{
  "nbformat": 4,
  "nbformat_minor": 0,
  "metadata": {
    "colab": {
      "name": "Lab10_Task1.ipynb",
      "provenance": []
    },
    "kernelspec": {
      "name": "python3",
      "display_name": "Python 3"
    },
    "language_info": {
      "name": "python"
    }
  },
  "cells": [
    {
      "cell_type": "markdown",
      "source": [
        "## **Aim : To build an ANN model for performing classification on a given dataset.**"
      ],
      "metadata": {
        "id": "1QulIsUUOYeD"
      }
    },
    {
      "cell_type": "code",
      "source": [
        "import matplotlib.pyplot as plt\n",
        "import numpy as np\n",
        "import pandas as pd\n",
        "import torch\n",
        "import torch.nn as nn\n",
        "from torch.autograd import Variable\n",
        "from torch.utils.data import DataLoader\n",
        "import tensorflow\n",
        "from sklearn.model_selection import train_test_split"
      ],
      "metadata": {
        "id": "3-GG0G6WOk4W"
      },
      "execution_count": 1,
      "outputs": []
    },
    {
      "cell_type": "code",
      "source": [
        "from tensorflow.keras.datasets import mnist\n",
        "(features_train, targets_train), (features_test, targets_test) = mnist.load_data()\n",
        "\n",
        "\n",
        "features_train, features_test = np.array(features_train, np.float32), np.array(features_test, np.float32)\n",
        "features_train, features_test = features_train.reshape([-1, 784]), features_test.reshape([-1, 784])\n",
        "\n",
        "features_train, features_test = features_train / 255., features_test / 255.\n",
        "print(features_train)\n",
        "print(targets_train)"
      ],
      "metadata": {
        "colab": {
          "base_uri": "https://localhost:8080/"
        },
        "id": "j9VRfofLOvbS",
        "outputId": "57121661-4b52-4aff-c973-30b4ff514f60"
      },
      "execution_count": 2,
      "outputs": [
        {
          "output_type": "stream",
          "name": "stdout",
          "text": [
            "Downloading data from https://storage.googleapis.com/tensorflow/tf-keras-datasets/mnist.npz\n",
            "11493376/11490434 [==============================] - 0s 0us/step\n",
            "11501568/11490434 [==============================] - 0s 0us/step\n",
            "[[0. 0. 0. ... 0. 0. 0.]\n",
            " [0. 0. 0. ... 0. 0. 0.]\n",
            " [0. 0. 0. ... 0. 0. 0.]\n",
            " ...\n",
            " [0. 0. 0. ... 0. 0. 0.]\n",
            " [0. 0. 0. ... 0. 0. 0.]\n",
            " [0. 0. 0. ... 0. 0. 0.]]\n",
            "[5 0 4 ... 5 6 8]\n"
          ]
        }
      ]
    },
    {
      "cell_type": "code",
      "source": [
        "torch_x_train = torch.from_numpy(features_train)\n",
        "torch_y_train = torch.from_numpy(targets_train)\n",
        "\n",
        "\n",
        "torch_x_test = torch.from_numpy(features_test)\n",
        "torch_y_test = torch.from_numpy(targets_test)"
      ],
      "metadata": {
        "id": "vDp7-yzJO_aN"
      },
      "execution_count": 3,
      "outputs": []
    },
    {
      "cell_type": "code",
      "source": [
        "from  torch.utils.data import TensorDataset\n",
        "batch_size = 100\n",
        "n_iters = 5000\n",
        "num_epochs = n_iters / (len(features_train) / batch_size)\n",
        "num_epochs = int(num_epochs)\n",
        "\n",
        "train_data=TensorDataset(torch_x_train,torch_y_train)\n",
        "test_data=TensorDataset(torch_x_test,torch_y_test)"
      ],
      "metadata": {
        "id": "6H1qFVmnPKl_"
      },
      "execution_count": 4,
      "outputs": []
    },
    {
      "cell_type": "code",
      "source": [
        "train_loader = torch.utils.data.DataLoader(dataset=train_data, batch_size=batch_size, shuffle=False)\n",
        "test_loader = torch.utils.data.DataLoader(dataset=test_data, batch_size=batch_size,shuffle=False)\n",
        "\n",
        "plt.imshow(features_train[179].reshape(28,28))\n",
        "plt.axis('off')\n",
        "plt.title(str(targets_train[179]))\n",
        "plt.savefig('graph.png')\n",
        "plt.show()"
      ],
      "metadata": {
        "colab": {
          "base_uri": "https://localhost:8080/",
          "height": 264
        },
        "id": "1CxNzWPHPNaR",
        "outputId": "240581bc-5d8f-441c-e84a-cbfbd006d2c6"
      },
      "execution_count": 6,
      "outputs": [
        {
          "output_type": "display_data",
          "data": {
            "text/plain": [
              "<Figure size 432x288 with 1 Axes>"
            ],
            "image/png": "[encoded data removed]"
          },
          "metadata": {
            "needs_background": "light"
          }
        }
      ]
    },
    {
      "cell_type": "code",
      "source": [
        "class ANNModel(nn.Module):\n",
        "    def __init__(self, input_dim, hidden_dim, output_dim):\n",
        "        super(ANNModel, self).__init__()\n",
        "        self.layer1 = nn.Linear(input_dim, hidden_dim)\n",
        "        self.layer2 = nn.Linear(hidden_dim, hidden_dim)\n",
        "        self.layer3 = nn.Linear(hidden_dim, output_dim)\n",
        "        self.relu = nn.ReLU()\n",
        "    def forward(self, x):\n",
        "        # HL1 with relu activation\n",
        "        out = self.relu(self.layer1(x))\n",
        "        # HL2 with relu activation\n",
        "        out = self.relu(self.layer2(out))\n",
        "        # Output layer with LogSoftmax activation\n",
        "        out = self.layer3(out)\n",
        "        return out\n",
        "\n",
        "input_dim = 28*28\n",
        "hidden_dim = 150 \n",
        "output_dim = 10\n",
        "\n",
        "model = ANNModel(input_dim, hidden_dim, output_dim)\n",
        "print(model)\n",
        "\n",
        "loss = nn.CrossEntropyLoss()\n",
        "# SGD Optimizer\n",
        "learning_rate = 0.02\n",
        "optimizer = torch.optim.SGD(model.parameters(), lr=learning_rate)\n"
      ],
      "metadata": {
        "colab": {
          "base_uri": "https://localhost:8080/"
        },
        "id": "mMbEPQr5P94h",
        "outputId": "04f052b7-c6e8-4891-c112-965a672d8fee"
      },
      "execution_count": 7,
      "outputs": [
        {
          "output_type": "stream",
          "name": "stdout",
          "text": [
            "ANNModel(\n",
            "  (layer1): Linear(in_features=784, out_features=150, bias=True)\n",
            "  (layer2): Linear(in_features=150, out_features=150, bias=True)\n",
            "  (layer3): Linear(in_features=150, out_features=10, bias=True)\n",
            "  (relu): ReLU()\n",
            ")\n"
          ]
        }
      ]
    },
    {
      "cell_type": "code",
      "source": [
        "# ANN model training\n",
        "count = 0\n",
        "loss_list = []\n",
        "iteration_list = []\n",
        "accuracy_list = []\n",
        "for epoch in range(num_epochs):\n",
        "    for i, (images, labels) in enumerate(train_loader):\n",
        "        train = Variable(images.view(-1, 28*28))\n",
        "        labels = Variable(labels)\n",
        "\n",
        "        optimizer.zero_grad()\n",
        "        \n",
        "        output=model(train)\n",
        "\n",
        "        error = loss(output, labels)\n",
        "        # Calculating gradients\n",
        "        error.backward()\n",
        "        # Update parameters\n",
        "        optimizer.step()\n",
        "        count += 1\n",
        "        if count % 50 == 0:\n",
        "            # Calculate Accuracy\n",
        "            correct = 0\n",
        "            total = 0\n",
        "            predicted=[]\n",
        "            # Predict test dataset\n",
        "            for images, labels in test_loader:\n",
        "                test = Variable(images.view(-1, 28*28))\n",
        "                \n",
        "                output=model(test)\n",
        "\n",
        "                total=len(labels)\n",
        "                \n",
        "                prediction= torch.max(output.data, 1)[1]\n",
        "         \n",
        "                correct=(prediction==labels).sum()\n",
        "\n",
        "            accuracy = 100 * correct / float(total)\n",
        "    \n",
        "            loss_list.append(error.data)\n",
        "            iteration_list.append(count)\n",
        "            accuracy_list.append(accuracy)\n",
        "        if count % 500 == 0:\n",
        "            print('Iteration: {} Loss: {} Accuracy: {} %'.format(count, error.data, accuracy))"
      ],
      "metadata": {
        "colab": {
          "base_uri": "https://localhost:8080/"
        },
        "id": "80hxgqnfQJyg",
        "outputId": "1e77cf76-d2eb-4a9c-fbe2-d7cd64b4741a"
      },
      "execution_count": 8,
      "outputs": [
        {
          "output_type": "stream",
          "name": "stdout",
          "text": [
            "Iteration: 500 Loss: 0.7675273418426514 Accuracy: 80.0 %\n",
            "Iteration: 1000 Loss: 0.5196858048439026 Accuracy: 87.0 %\n",
            "Iteration: 1500 Loss: 0.5738586783409119 Accuracy: 86.0 %\n",
            "Iteration: 2000 Loss: 0.29143276810646057 Accuracy: 89.0 %\n",
            "Iteration: 2500 Loss: 0.1956893801689148 Accuracy: 90.0 %\n",
            "Iteration: 3000 Loss: 0.32292553782463074 Accuracy: 91.0 %\n",
            "Iteration: 3500 Loss: 0.25366494059562683 Accuracy: 92.0 %\n",
            "Iteration: 4000 Loss: 0.28844529390335083 Accuracy: 92.0 %\n",
            "Iteration: 4500 Loss: 0.4029995799064636 Accuracy: 91.0 %\n"
          ]
        }
      ]
    },
    {
      "cell_type": "code",
      "source": [
        "plt.plot(iteration_list,loss_list)\n",
        "plt.xlabel(\"Number of iteration\")\n",
        "plt.ylabel(\"Loss\")\n",
        "plt.title(\"ANN: Loss vs Number of iteration\")\n",
        "plt.show()\n",
        "# visualization accuracy\n",
        "plt.plot(iteration_list,accuracy_list,color = \"red\")\n",
        "plt.xlabel(\"Number of iteration\")\n",
        "plt.ylabel(\"Accuracy\")\n",
        "plt.title(\"ANN: Accuracy vs Number of iteration\")\n",
        "plt.show()"
      ],
      "metadata": {
        "colab": {
          "base_uri": "https://localhost:8080/",
          "height": 573
        },
        "id": "gvtElCmhSiKN",
        "outputId": "af9c9a4e-79d3-4196-b27b-ccffd2acc348"
      },
      "execution_count": 9,
      "outputs": [
        {
          "output_type": "display_data",
          "data": {
            "text/plain": [
              "<Figure size 432x288 with 1 Axes>"
            ],
            "image/png": "[encoded data removed]"
          },
          "metadata": {
            "needs_background": "light"
          }
        },
        {
          "output_type": "display_data",
          "data": {
            "text/plain": [
              "<Figure size 432x288 with 1 Axes>"
            ],
            "image/png": "[encoded data removed]"
          },
          "metadata": {
            "needs_background": "light"
          }
        }
      ]
    },
    {
      "cell_type": "code",
      "source": [
        ""
      ],
      "metadata": {
        "id": "N6WmAU4cSsxD"
      },
      "execution_count": null,
      "outputs": []
    }
  ]
}