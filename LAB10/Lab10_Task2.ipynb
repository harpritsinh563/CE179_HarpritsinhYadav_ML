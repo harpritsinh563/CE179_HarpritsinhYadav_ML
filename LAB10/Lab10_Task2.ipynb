{
  "nbformat": 4,
  "nbformat_minor": 0,
  "metadata": {
    "colab": {
      "name": "Lab10_Task2.ipynb",
      "provenance": []
    },
    "kernelspec": {
      "name": "python3",
      "display_name": "Python 3"
    },
    "language_info": {
      "name": "python"
    }
  },
  "cells": [
    {
      "cell_type": "markdown",
      "source": [
        "## **Apply SVM on MNIST Dataset**"
      ],
      "metadata": {
        "id": "ooAmeQ_uTmg7"
      }
    },
    {
      "cell_type": "code",
      "source": [
        "import numpy as np\n",
        "import pandas as pd\n",
        "from sklearn import svm\n",
        "import matplotlib.pyplot as plt\n",
        "from sklearn.metrics import accuracy_score\n",
        "from sklearn.model_selection import train_test_split\n",
        "%matplotlib inline\n",
        "from tensorflow.keras.datasets import mnist"
      ],
      "metadata": {
        "id": "eMWaJYlTTsyb"
      },
      "execution_count": 10,
      "outputs": []
    },
    {
      "cell_type": "code",
      "source": [
        "(features_train, targets_train), (features_test, targets_test) = mnist.load_data()\n",
        "features_train, features_test = features_train.reshape([-1, 784]), features_test.reshape([-1, 784])\n",
        "features_train, features_test = features_train / 255., features_test / 255.\n",
        "print(features_train.shape)\n",
        "print(features_test.shape)\n",
        "print(targets_train.shape)\n",
        "print(targets_test.shape)"
      ],
      "metadata": {
        "colab": {
          "base_uri": "https://localhost:8080/"
        },
        "id": "u10pdo9KTzJ9",
        "outputId": "4504ccd8-88d8-447e-c478-79efb2ea8ca2"
      },
      "execution_count": 11,
      "outputs": [
        {
          "output_type": "stream",
          "name": "stdout",
          "text": [
            "(60000, 784)\n",
            "(10000, 784)\n",
            "(60000,)\n",
            "(10000,)\n"
          ]
        }
      ]
    },
    {
      "cell_type": "code",
      "source": [
        "svm_clfr = svm.SVC()\n",
        "svm_clfr.fit(features_train[:5000], targets_train[:5000])"
      ],
      "metadata": {
        "colab": {
          "base_uri": "https://localhost:8080/"
        },
        "id": "hjTIPFZpT0Io",
        "outputId": "7a476d37-0fb5-4e33-91a1-0e1a3cf12969"
      },
      "execution_count": 12,
      "outputs": [
        {
          "output_type": "execute_result",
          "data": {
            "text/plain": [
              "SVC()"
            ]
          },
          "metadata": {},
          "execution_count": 12
        }
      ]
    },
    {
      "cell_type": "code",
      "source": [
        "pred = svm_clfr.predict(features_test)\n",
        "print(pred)"
      ],
      "metadata": {
        "colab": {
          "base_uri": "https://localhost:8080/"
        },
        "id": "_AU9vmnUUDQ9",
        "outputId": "79848bdc-523f-4d7d-885c-c71253de5a83"
      },
      "execution_count": 13,
      "outputs": [
        {
          "output_type": "stream",
          "name": "stdout",
          "text": [
            "[7 2 1 ... 4 5 6]\n"
          ]
        }
      ]
    },
    {
      "cell_type": "code",
      "source": [
        "\n",
        "print(\"Accuracy - {}%\".format(accuracy_score(y_pred=pred, y_true=targets_test)*100))"
      ],
      "metadata": {
        "colab": {
          "base_uri": "https://localhost:8080/"
        },
        "id": "G98TqnQgUKhx",
        "outputId": "4d4777be-f22f-404e-f3bf-4ed653add2c4"
      },
      "execution_count": 14,
      "outputs": [
        {
          "output_type": "stream",
          "name": "stdout",
          "text": [
            "Accuracy - 95.13000000000001%\n"
          ]
        }
      ]
    }
  ]
}