{
  "nbformat": 4,
  "nbformat_minor": 0,
  "metadata": {
    "colab": {
      "name": "Lab5_Task2.ipynb",
      "provenance": []
    },
    "kernelspec": {
      "name": "python3",
      "display_name": "Python 3"
    },
    "language_info": {
      "name": "python"
    }
  },
  "cells": [
    {
      "cell_type": "markdown",
      "source": [
        "**Task 1: Try the algo on Same Weather dataset LabelEncoding of features:and Train test Division 95%-5%**"
      ],
      "metadata": {
        "id": "oX78jR7dZzPx"
      }
    },
    {
      "cell_type": "code",
      "source": [
        "from sklearn import preprocessing\n",
        "from sklearn.tree import DecisionTreeClassifier\n",
        "from sklearn.metrics import precision_score\n",
        "from sklearn import metrics\n",
        "from sklearn.metrics import recall_score\n",
        "from sklearn import metrics\n",
        "from sklearn.model_selection import train_test_split\n",
        "\n",
        "Outlook = ['Rainy', 'Rainy', 'Overcast', 'Sunny', 'Sunny', 'Sunny',\n",
        "'Overcast',\n",
        "'Rainy', 'Rainy', 'Sunny', 'Rainy','Overcast', 'Overcast',\n",
        "'Sunny']\n",
        "Temperature = ['Hot', 'Hot', 'Hot', 'Mild', 'Cool', 'Cool', 'Cool',\n",
        "'Mild', 'Cool', 'Mild', 'Mild', 'Mild', 'Hot', 'Mild']\n",
        "Humidity = ['High', 'High', 'High', 'High', 'Normal', 'Normal', 'Normal',\n",
        "'High', 'Normal', 'Normal', 'Normal', 'High', 'Normal'\n",
        ",'High']\n",
        "Wind = ['False', 'True', 'False', 'False', 'False', 'True', 'True',\n",
        "'False', 'False', 'False', 'True', 'True', 'False', 'True']\n",
        "Play = ['No', 'No', 'Yes', 'Yes', 'Yes', 'No', 'Yes', 'No',\n",
        "'Yes', 'Yes', 'Yes', 'Yes', 'Yes', 'No']"
      ],
      "metadata": {
        "id": "pSuUKVN0Z1W-"
      },
      "execution_count": 10,
      "outputs": []
    },
    {
      "cell_type": "code",
      "source": [
        "le = preprocessing.LabelEncoder()\n",
        "Olk_encd = le.fit_transform(Outlook)\n",
        "Olk_name_maping = dict(zip(le.classes_, le.transform(le.classes_)))\n",
        "print(\"Outlook mapping:\",Olk_name_maping)\n",
        "Temp_encd = le.fit_transform(Temperature)\n",
        "Temperature_name_mapping = dict(zip(le.classes_, le.transform(le.classes_)))\n",
        "print(\"Temperature mapping:\",Temperature_name_mapping)\n",
        "Humidity_encd = le.fit_transform(Humidity)\n",
        "Humidity_name_mapping = dict(zip(le.classes_, le.transform(le.classes_)))\n",
        "print(\"Humidity mapping:\",Humidity_name_mapping)\n",
        "Wind_encd = le.fit_transform(Wind)\n",
        "Wind_name_mapping = dict(zip(le.classes_, le.transform(le.classes_)))\n",
        "print(\"Wind mapping:\",Wind_name_mapping)\n",
        "Play_encd = le.fit_transform(Play)\n",
        "Play_name_mapping = dict(zip(le.classes_, le.transform(le.classes_)))\n",
        "print(\"Play mapping:\",Play_name_mapping)\n",
        "print(\"\\n\\n\")\n",
        "print(\"Weather:\" ,Olk_encd)\n",
        "print(\"Temerature:\" ,Temp_encd)\n",
        "print(\"Humidity:\" ,Humidity_encd)\n",
        "print(\"Wind:\" ,Wind_encd)\n",
        "print(\"Play:\" ,Play_encd)"
      ],
      "metadata": {
        "colab": {
          "base_uri": "https://localhost:8080/"
        },
        "id": "uVUrOskRZ54-",
        "outputId": "1af37d73-9872-430d-a1e7-9e399c030a93"
      },
      "execution_count": 11,
      "outputs": [
        {
          "output_type": "stream",
          "name": "stdout",
          "text": [
            "Outlook mapping: {'Overcast': 0, 'Rainy': 1, 'Sunny': 2}\n",
            "Temperature mapping: {'Cool': 0, 'Hot': 1, 'Mild': 2}\n",
            "Humidity mapping: {'High': 0, 'Normal': 1}\n",
            "Wind mapping: {'False': 0, 'True': 1}\n",
            "Play mapping: {'No': 0, 'Yes': 1}\n",
            "\n",
            "\n",
            "\n",
            "Weather: [1 1 0 2 2 2 0 1 1 2 1 0 0 2]\n",
            "Temerature: [1 1 1 2 0 0 0 2 0 2 2 2 1 2]\n",
            "Humidity: [0 0 0 0 1 1 1 0 1 1 1 0 1 0]\n",
            "Wind: [0 1 0 0 0 1 1 0 0 0 1 1 0 1]\n",
            "Play: [0 0 1 1 1 0 1 0 1 1 1 1 1 0]\n"
          ]
        }
      ]
    },
    {
      "cell_type": "code",
      "source": [
        "features=list(zip(Olk_encd,Temp_encd,Humidity_encd,Wind_encd))\n",
        "print(\"Features:\",features)"
      ],
      "metadata": {
        "colab": {
          "base_uri": "https://localhost:8080/"
        },
        "id": "cN88VIlyaOKU",
        "outputId": "b8bcf539-8bd5-4a81-a94f-2a7089b0378a"
      },
      "execution_count": 12,
      "outputs": [
        {
          "output_type": "stream",
          "name": "stdout",
          "text": [
            "Features: [(1, 1, 0, 0), (1, 1, 0, 1), (0, 1, 0, 0), (2, 2, 0, 0), (2, 0, 1, 0), (2, 0, 1, 1), (0, 0, 1, 1), (1, 2, 0, 0), (1, 0, 1, 0), (2, 2, 1, 0), (1, 2, 1, 1), (0, 2, 0, 1), (0, 1, 1, 0), (2, 2, 0, 1)]\n"
          ]
        }
      ]
    },
    {
      "cell_type": "code",
      "source": [
        "X_train, X_test, y_train, y_test = train_test_split(features,Play_encd , test_size=0.05, random_state=179)\n",
        "print(X_train)\n",
        "print(X_test)\n",
        "print(y_train)\n",
        "print(y_test)"
      ],
      "metadata": {
        "colab": {
          "base_uri": "https://localhost:8080/"
        },
        "id": "0vBUn_I0a0hI",
        "outputId": "0b218868-e5a6-4e35-c337-9584a42a14fd"
      },
      "execution_count": 13,
      "outputs": [
        {
          "output_type": "stream",
          "name": "stdout",
          "text": [
            "[(1, 0, 1, 0), (1, 1, 0, 0), (0, 1, 1, 0), (2, 0, 1, 1), (1, 1, 0, 1), (2, 2, 0, 1), (0, 0, 1, 1), (0, 1, 0, 0), (2, 0, 1, 0), (1, 2, 1, 1), (1, 2, 0, 0), (2, 2, 0, 0), (2, 2, 1, 0)]\n",
            "[(0, 2, 0, 1)]\n",
            "[1 0 1 0 0 0 1 1 1 1 0 1 1]\n",
            "[1]\n"
          ]
        }
      ]
    },
    {
      "cell_type": "code",
      "source": [
        "clfr = DecisionTreeClassifier(criterion = \"entropy\", random_state = 179, max_leaf_nodes=179)\n",
        "clfr = clfr.fit(X_train,y_train)\n",
        "y_pred = clfr.predict(X_test)\n",
        "print(y_pred)"
      ],
      "metadata": {
        "colab": {
          "base_uri": "https://localhost:8080/"
        },
        "id": "IpQct4Q7a_LX",
        "outputId": "d5465c6e-43e4-44b2-eef1-6ddb2f454250"
      },
      "execution_count": 14,
      "outputs": [
        {
          "output_type": "stream",
          "name": "stdout",
          "text": [
            "[1]\n"
          ]
        }
      ]
    },
    {
      "cell_type": "code",
      "source": [
        "print(\"Accuracy:\",metrics.accuracy_score(y_test, y_pred))\n",
        "precision = precision_score(y_test, y_pred)\n",
        "recall = recall_score(y_test, y_pred)\n",
        "print('precision:',precision)\n",
        "print('recall:',recall)"
      ],
      "metadata": {
        "colab": {
          "base_uri": "https://localhost:8080/"
        },
        "id": "XmVbQDkMbIAV",
        "outputId": "44a260e3-5879-47da-abe9-1e14c4169bd7"
      },
      "execution_count": 16,
      "outputs": [
        {
          "output_type": "stream",
          "name": "stdout",
          "text": [
            "Accuracy: 1.0\n",
            "precision: 1.0\n",
            "recall: 1.0\n"
          ]
        }
      ]
    },
    {
      "cell_type": "markdown",
      "source": [
        ""
      ],
      "metadata": {
        "id": "iYMlgAvSbZit"
      }
    },
    {
      "cell_type": "markdown",
      "source": [
        "1] What will be the value of Play if Outlook is 'Rainy', Temperature is ’Mild’, Humidity =’Normal’, and Wind = ’False’?"
      ],
      "metadata": {
        "id": "OC0ieWMKbZuM"
      }
    },
    {
      "cell_type": "code",
      "source": [
        "pred1 = clfr.predict([(1,2,1,0)])\n",
        "print(pred1)"
      ],
      "metadata": {
        "colab": {
          "base_uri": "https://localhost:8080/"
        },
        "id": "ttn2KxN9bkK2",
        "outputId": "5b510976-9921-4810-8e8b-a82b6c62e5e3"
      },
      "execution_count": 18,
      "outputs": [
        {
          "output_type": "stream",
          "name": "stdout",
          "text": [
            "[1]\n"
          ]
        }
      ]
    },
    {
      "cell_type": "markdown",
      "source": [
        "2] What will be the value of Play, if Outlook is ’Sunny’, Temeprature is ’Cool’, Humidity =’High’, and Wind = ’True’?"
      ],
      "metadata": {
        "id": "KTvrDJNcbzWz"
      }
    },
    {
      "cell_type": "code",
      "source": [
        "pred2 = clfr.predict([(2,0,0,1)])\n",
        "print(pred2)"
      ],
      "metadata": {
        "colab": {
          "base_uri": "https://localhost:8080/"
        },
        "id": "OjExu3vZb2RP",
        "outputId": "31c21513-51f9-4f7e-93a8-62fcec9e4e01"
      },
      "execution_count": 19,
      "outputs": [
        {
          "output_type": "stream",
          "name": "stdout",
          "text": [
            "[0]\n"
          ]
        }
      ]
    },
    {
      "cell_type": "markdown",
      "source": [
        "**Task 2: Apply algorithm on wine dataset - LabelEncoding of features: and Train test Division 66%-34%**"
      ],
      "metadata": {
        "id": "blDEJm__cCvz"
      }
    },
    {
      "cell_type": "code",
      "source": [
        "from sklearn.datasets import load_wine\n",
        "wine_data = load_wine()\n",
        "print(\"Features:\",wine_data.feature_names)\n",
        "print(\"Labels:\",wine_data.target_names)"
      ],
      "metadata": {
        "colab": {
          "base_uri": "https://localhost:8080/"
        },
        "id": "OeMkqL98cL_G",
        "outputId": "35f066b4-abde-4154-8fdf-d20265290eae"
      },
      "execution_count": 20,
      "outputs": [
        {
          "output_type": "stream",
          "name": "stdout",
          "text": [
            "Features: ['alcohol', 'malic_acid', 'ash', 'alcalinity_of_ash', 'magnesium', 'total_phenols', 'flavanoids', 'nonflavanoid_phenols', 'proanthocyanins', 'color_intensity', 'hue', 'od280/od315_of_diluted_wines', 'proline']\n",
            "Labels: ['class_0' 'class_1' 'class_2']\n"
          ]
        }
      ]
    },
    {
      "cell_type": "code",
      "source": [
        "X_train, X_test, y_train, y_test = train_test_split(wine_data.data,wine_data.target , test_size=0.34, random_state=179)"
      ],
      "metadata": {
        "id": "YIAizAQ9cVi2"
      },
      "execution_count": 21,
      "outputs": []
    },
    {
      "cell_type": "code",
      "source": [
        "clfr = DecisionTreeClassifier(criterion = \"entropy\", random_state = 179, max_leaf_nodes=179)\n",
        "clfr = clfr.fit(X_train,y_train)\n",
        "y_pred = clfr.predict(X_test)\n",
        "print(y_pred)"
      ],
      "metadata": {
        "colab": {
          "base_uri": "https://localhost:8080/"
        },
        "id": "RdxHbMB-cYB9",
        "outputId": "42a64f92-d9fa-4ec2-c813-4152aa1275ce"
      },
      "execution_count": 22,
      "outputs": [
        {
          "output_type": "stream",
          "name": "stdout",
          "text": [
            "[1 2 1 1 1 1 2 2 1 1 1 2 2 1 2 0 1 1 2 1 0 2 1 1 2 0 0 2 1 1 0 0 1 0 0 1 0\n",
            " 0 0 0 2 2 0 1 1 1 2 0 2 1 1 0 2 0 1 0 0 1 0 1 1]\n"
          ]
        }
      ]
    },
    {
      "cell_type": "code",
      "source": [
        "print(\"Accuracy:\",metrics.accuracy_score(y_test, y_pred))\n",
        "precision = precision_score(y_test, y_pred,average=None)\n",
        "recall = recall_score(y_test, y_pred,average=None)\n",
        "print('precision: ',precision)\n",
        "print('recall: ',recall)"
      ],
      "metadata": {
        "colab": {
          "base_uri": "https://localhost:8080/"
        },
        "id": "WQi1rUAPcedG",
        "outputId": "64662e1e-74a6-4b6f-c310-69dc52d5dc8d"
      },
      "execution_count": 23,
      "outputs": [
        {
          "output_type": "stream",
          "name": "stdout",
          "text": [
            "Accuracy: 0.9180327868852459\n",
            "precision:  [1.         0.85185185 0.93333333]\n",
            "recall:  [0.95       0.95833333 0.82352941]\n"
          ]
        }
      ]
    }
  ]
}